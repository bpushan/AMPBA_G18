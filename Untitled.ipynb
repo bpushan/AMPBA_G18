{
 "cells": [
  {
   "cell_type": "code",
   "execution_count": 2,
   "id": "c3569ee1-33c2-4386-b800-c9c7af263694",
   "metadata": {},
   "outputs": [
    {
     "name": "stdout",
     "output_type": "stream",
     "text": [
      "Collecting torch\n",
      "  Using cached torch-2.3.1-cp311-cp311-win_amd64.whl.metadata (26 kB)\n",
      "Requirement already satisfied: filelock in c:\\users\\admin\\anaconda3\\lib\\site-packages (from torch) (3.13.1)\n",
      "Requirement already satisfied: typing-extensions>=4.8.0 in c:\\users\\admin\\anaconda3\\lib\\site-packages (from torch) (4.9.0)\n",
      "Requirement already satisfied: sympy in c:\\users\\admin\\anaconda3\\lib\\site-packages (from torch) (1.12)\n",
      "Requirement already satisfied: networkx in c:\\users\\admin\\anaconda3\\lib\\site-packages (from torch) (3.1)\n",
      "Requirement already satisfied: jinja2 in c:\\users\\admin\\anaconda3\\lib\\site-packages (from torch) (3.1.3)\n",
      "Requirement already satisfied: fsspec in c:\\users\\admin\\anaconda3\\lib\\site-packages (from torch) (2023.10.0)\n",
      "Collecting mkl<=2021.4.0,>=2021.1.1 (from torch)\n",
      "  Using cached mkl-2021.4.0-py2.py3-none-win_amd64.whl.metadata (1.4 kB)\n",
      "Collecting intel-openmp==2021.* (from mkl<=2021.4.0,>=2021.1.1->torch)\n",
      "  Using cached intel_openmp-2021.4.0-py2.py3-none-win_amd64.whl.metadata (1.2 kB)\n",
      "Collecting tbb==2021.* (from mkl<=2021.4.0,>=2021.1.1->torch)\n",
      "  Using cached tbb-2021.12.0-py3-none-win_amd64.whl.metadata (1.1 kB)\n",
      "Requirement already satisfied: MarkupSafe>=2.0 in c:\\users\\admin\\anaconda3\\lib\\site-packages (from jinja2->torch) (2.1.3)\n",
      "Requirement already satisfied: mpmath>=0.19 in c:\\users\\admin\\anaconda3\\lib\\site-packages (from sympy->torch) (1.3.0)\n",
      "Using cached torch-2.3.1-cp311-cp311-win_amd64.whl (159.8 MB)\n",
      "Using cached mkl-2021.4.0-py2.py3-none-win_amd64.whl (228.5 MB)\n",
      "Using cached intel_openmp-2021.4.0-py2.py3-none-win_amd64.whl (3.5 MB)\n",
      "Using cached tbb-2021.12.0-py3-none-win_amd64.whl (286 kB)\n",
      "Installing collected packages: tbb, intel-openmp, mkl, torch\n",
      "Successfully installed intel-openmp-2021.4.0 mkl-2021.4.0 tbb-2021.12.0 torch-2.3.1\n"
     ]
    }
   ],
   "source": [
    "!pip install torch"
   ]
  },
  {
   "cell_type": "code",
   "execution_count": 4,
   "id": "c51032b1-4426-4ddb-9efb-24945ea05df6",
   "metadata": {},
   "outputs": [
    {
     "name": "stdout",
     "output_type": "stream",
     "text": [
      "Requirement already satisfied: numpy in c:\\users\\admin\\anaconda3\\lib\\site-packages (1.26.4)\n"
     ]
    }
   ],
   "source": [
    "!pip install numpy"
   ]
  },
  {
   "cell_type": "code",
   "execution_count": 5,
   "id": "af3b95b7-f36d-40f4-a053-398aee775eaa",
   "metadata": {},
   "outputs": [
    {
     "name": "stdout",
     "output_type": "stream",
     "text": [
      "Requirement already satisfied: pandas in c:\\users\\admin\\anaconda3\\lib\\site-packages (2.1.4)\n",
      "Requirement already satisfied: numpy<2,>=1.23.2 in c:\\users\\admin\\anaconda3\\lib\\site-packages (from pandas) (1.26.4)\n",
      "Requirement already satisfied: python-dateutil>=2.8.2 in c:\\users\\admin\\anaconda3\\lib\\site-packages (from pandas) (2.8.2)\n",
      "Requirement already satisfied: pytz>=2020.1 in c:\\users\\admin\\anaconda3\\lib\\site-packages (from pandas) (2023.3.post1)\n",
      "Requirement already satisfied: tzdata>=2022.1 in c:\\users\\admin\\anaconda3\\lib\\site-packages (from pandas) (2023.3)\n",
      "Requirement already satisfied: six>=1.5 in c:\\users\\admin\\anaconda3\\lib\\site-packages (from python-dateutil>=2.8.2->pandas) (1.16.0)\n"
     ]
    }
   ],
   "source": [
    "!pip install pandas"
   ]
  },
  {
   "cell_type": "code",
   "execution_count": 6,
   "id": "5de63820-e945-497d-a037-5190ea174cbc",
   "metadata": {},
   "outputs": [
    {
     "name": "stdout",
     "output_type": "stream",
     "text": [
      "Collecting torchvision\n",
      "  Using cached torchvision-0.18.1-cp311-cp311-win_amd64.whl.metadata (6.6 kB)\n",
      "Requirement already satisfied: numpy in c:\\users\\admin\\anaconda3\\lib\\site-packages (from torchvision) (1.26.4)\n",
      "Requirement already satisfied: torch==2.3.1 in c:\\users\\admin\\anaconda3\\lib\\site-packages (from torchvision) (2.3.1)\n",
      "Requirement already satisfied: pillow!=8.3.*,>=5.3.0 in c:\\users\\admin\\anaconda3\\lib\\site-packages (from torchvision) (10.2.0)\n",
      "Requirement already satisfied: filelock in c:\\users\\admin\\anaconda3\\lib\\site-packages (from torch==2.3.1->torchvision) (3.13.1)\n",
      "Requirement already satisfied: typing-extensions>=4.8.0 in c:\\users\\admin\\anaconda3\\lib\\site-packages (from torch==2.3.1->torchvision) (4.9.0)\n",
      "Requirement already satisfied: sympy in c:\\users\\admin\\anaconda3\\lib\\site-packages (from torch==2.3.1->torchvision) (1.12)\n",
      "Requirement already satisfied: networkx in c:\\users\\admin\\anaconda3\\lib\\site-packages (from torch==2.3.1->torchvision) (3.1)\n",
      "Requirement already satisfied: jinja2 in c:\\users\\admin\\anaconda3\\lib\\site-packages (from torch==2.3.1->torchvision) (3.1.3)\n",
      "Requirement already satisfied: fsspec in c:\\users\\admin\\anaconda3\\lib\\site-packages (from torch==2.3.1->torchvision) (2023.10.0)\n",
      "Requirement already satisfied: mkl<=2021.4.0,>=2021.1.1 in c:\\users\\admin\\anaconda3\\lib\\site-packages (from torch==2.3.1->torchvision) (2021.4.0)\n",
      "Requirement already satisfied: intel-openmp==2021.* in c:\\users\\admin\\anaconda3\\lib\\site-packages (from mkl<=2021.4.0,>=2021.1.1->torch==2.3.1->torchvision) (2021.4.0)\n",
      "Requirement already satisfied: tbb==2021.* in c:\\users\\admin\\anaconda3\\lib\\site-packages (from mkl<=2021.4.0,>=2021.1.1->torch==2.3.1->torchvision) (2021.12.0)\n",
      "Requirement already satisfied: MarkupSafe>=2.0 in c:\\users\\admin\\anaconda3\\lib\\site-packages (from jinja2->torch==2.3.1->torchvision) (2.1.3)\n",
      "Requirement already satisfied: mpmath>=0.19 in c:\\users\\admin\\anaconda3\\lib\\site-packages (from sympy->torch==2.3.1->torchvision) (1.3.0)\n",
      "Using cached torchvision-0.18.1-cp311-cp311-win_amd64.whl (1.2 MB)\n",
      "Installing collected packages: torchvision\n",
      "Successfully installed torchvision-0.18.1\n"
     ]
    }
   ],
   "source": [
    "!pip install torchvision"
   ]
  },
  {
   "cell_type": "code",
   "execution_count": 10,
   "id": "abf41419-bf91-4a06-9616-bce67e646b0a",
   "metadata": {},
   "outputs": [
    {
     "name": "stdout",
     "output_type": "stream",
     "text": [
      "Collecting coco_utils\n",
      "  Downloading coco_utils-0.0.3-py3-none-any.whl.metadata (1.9 kB)\n",
      "Collecting fastcore<2.0.0,>=1.3.27 (from coco_utils)\n",
      "  Downloading fastcore-1.5.45-py3-none-any.whl.metadata (3.5 kB)\n",
      "Collecting pandas<2.0.0,>=1.3.5 (from coco_utils)\n",
      "  Downloading pandas-1.5.3-cp311-cp311-win_amd64.whl.metadata (12 kB)\n",
      "Collecting pycocotools<3.0.0,>=2.0.3 (from coco_utils)\n",
      "  Downloading pycocotools-2.0.7-cp311-cp311-win_amd64.whl.metadata (1.1 kB)\n",
      "Requirement already satisfied: pydantic<2.0.0,>=1.8.2 in c:\\users\\admin\\anaconda3\\lib\\site-packages (from coco_utils) (1.10.12)\n",
      "Collecting seaborn<0.12.0,>=0.11.2 (from coco_utils)\n",
      "  Downloading seaborn-0.11.2-py3-none-any.whl.metadata (2.3 kB)\n",
      "INFO: pip is looking at multiple versions of coco-utils to determine which version is compatible with other requirements. This could take a while.\n",
      "Collecting coco_utils\n",
      "  Downloading coco_utils-0.0.2-py3-none-any.whl.metadata (1.4 kB)\n",
      "  Downloading coco_utils-0.0.1-py3-none-any.whl.metadata (464 bytes)\n",
      "Requirement already satisfied: packaging in c:\\users\\admin\\anaconda3\\lib\\site-packages (from fastcore<2.0.0,>=1.3.27->coco_utils) (23.1)\n",
      "Requirement already satisfied: matplotlib>=2.1.0 in c:\\users\\admin\\anaconda3\\lib\\site-packages (from pycocotools<3.0.0,>=2.0.3->coco_utils) (3.8.0)\n",
      "Requirement already satisfied: numpy in c:\\users\\admin\\anaconda3\\lib\\site-packages (from pycocotools<3.0.0,>=2.0.3->coco_utils) (1.26.4)\n",
      "Requirement already satisfied: contourpy>=1.0.1 in c:\\users\\admin\\anaconda3\\lib\\site-packages (from matplotlib>=2.1.0->pycocotools<3.0.0,>=2.0.3->coco_utils) (1.2.0)\n",
      "Requirement already satisfied: cycler>=0.10 in c:\\users\\admin\\anaconda3\\lib\\site-packages (from matplotlib>=2.1.0->pycocotools<3.0.0,>=2.0.3->coco_utils) (0.11.0)\n",
      "Requirement already satisfied: fonttools>=4.22.0 in c:\\users\\admin\\anaconda3\\lib\\site-packages (from matplotlib>=2.1.0->pycocotools<3.0.0,>=2.0.3->coco_utils) (4.25.0)\n",
      "Requirement already satisfied: kiwisolver>=1.0.1 in c:\\users\\admin\\anaconda3\\lib\\site-packages (from matplotlib>=2.1.0->pycocotools<3.0.0,>=2.0.3->coco_utils) (1.4.4)\n",
      "Requirement already satisfied: pillow>=6.2.0 in c:\\users\\admin\\anaconda3\\lib\\site-packages (from matplotlib>=2.1.0->pycocotools<3.0.0,>=2.0.3->coco_utils) (10.2.0)\n",
      "Requirement already satisfied: pyparsing>=2.3.1 in c:\\users\\admin\\anaconda3\\lib\\site-packages (from matplotlib>=2.1.0->pycocotools<3.0.0,>=2.0.3->coco_utils) (3.0.9)\n",
      "Requirement already satisfied: python-dateutil>=2.7 in c:\\users\\admin\\anaconda3\\lib\\site-packages (from matplotlib>=2.1.0->pycocotools<3.0.0,>=2.0.3->coco_utils) (2.8.2)\n",
      "Requirement already satisfied: six>=1.5 in c:\\users\\admin\\anaconda3\\lib\\site-packages (from python-dateutil>=2.7->matplotlib>=2.1.0->pycocotools<3.0.0,>=2.0.3->coco_utils) (1.16.0)\n",
      "Downloading coco_utils-0.0.1-py3-none-any.whl (14 kB)\n",
      "Downloading fastcore-1.5.45-py3-none-any.whl (75 kB)\n",
      "   ---------------------------------------- 0.0/75.0 kB ? eta -:--:--\n",
      "   ----- ---------------------------------- 10.2/75.0 kB ? eta -:--:--\n",
      "   ----- ---------------------------------- 10.2/75.0 kB ? eta -:--:--\n",
      "   --------------------- ------------------ 41.0/75.0 kB 495.5 kB/s eta 0:00:01\n",
      "   ---------------------------------------- 75.0/75.0 kB 594.5 kB/s eta 0:00:00\n",
      "Downloading pycocotools-2.0.7-cp311-cp311-win_amd64.whl (85 kB)\n",
      "   ---------------------------------------- 0.0/85.8 kB ? eta -:--:--\n",
      "   -------------- ------------------------- 30.7/85.8 kB ? eta -:--:--\n",
      "   -------------------------------------- - 81.9/85.8 kB 1.5 MB/s eta 0:00:01\n",
      "   ---------------------------------------- 85.8/85.8 kB 968.4 kB/s eta 0:00:00\n",
      "Installing collected packages: fastcore, pycocotools, coco_utils\n",
      "Successfully installed coco_utils-0.0.1 fastcore-1.5.45 pycocotools-2.0.7\n"
     ]
    }
   ],
   "source": [
    "!pip install coco_utils"
   ]
  },
  {
   "cell_type": "code",
   "execution_count": 11,
   "id": "6a441b2b-5636-4d04-a1d0-538eb12de166",
   "metadata": {},
   "outputs": [
    {
     "name": "stdout",
     "output_type": "stream",
     "text": [
      "Collecting coco_eval\n",
      "  Downloading coco_eval-0.0.4.tar.gz (4.5 kB)\n",
      "  Preparing metadata (setup.py): started\n",
      "  Preparing metadata (setup.py): finished with status 'done'\n",
      "Requirement already satisfied: numpy in c:\\users\\admin\\anaconda3\\lib\\site-packages (from coco_eval) (1.26.4)\n",
      "Requirement already satisfied: torch in c:\\users\\admin\\anaconda3\\lib\\site-packages (from coco_eval) (2.3.1)\n",
      "Requirement already satisfied: pycocotools in c:\\users\\admin\\anaconda3\\lib\\site-packages (from coco_eval) (2.0.7)\n",
      "Requirement already satisfied: matplotlib>=2.1.0 in c:\\users\\admin\\anaconda3\\lib\\site-packages (from pycocotools->coco_eval) (3.8.0)\n",
      "Requirement already satisfied: filelock in c:\\users\\admin\\anaconda3\\lib\\site-packages (from torch->coco_eval) (3.13.1)\n",
      "Requirement already satisfied: typing-extensions>=4.8.0 in c:\\users\\admin\\anaconda3\\lib\\site-packages (from torch->coco_eval) (4.9.0)\n",
      "Requirement already satisfied: sympy in c:\\users\\admin\\anaconda3\\lib\\site-packages (from torch->coco_eval) (1.12)\n",
      "Requirement already satisfied: networkx in c:\\users\\admin\\anaconda3\\lib\\site-packages (from torch->coco_eval) (3.1)\n",
      "Requirement already satisfied: jinja2 in c:\\users\\admin\\anaconda3\\lib\\site-packages (from torch->coco_eval) (3.1.3)\n",
      "Requirement already satisfied: fsspec in c:\\users\\admin\\anaconda3\\lib\\site-packages (from torch->coco_eval) (2023.10.0)\n",
      "Requirement already satisfied: mkl<=2021.4.0,>=2021.1.1 in c:\\users\\admin\\anaconda3\\lib\\site-packages (from torch->coco_eval) (2021.4.0)\n",
      "Requirement already satisfied: contourpy>=1.0.1 in c:\\users\\admin\\anaconda3\\lib\\site-packages (from matplotlib>=2.1.0->pycocotools->coco_eval) (1.2.0)\n",
      "Requirement already satisfied: cycler>=0.10 in c:\\users\\admin\\anaconda3\\lib\\site-packages (from matplotlib>=2.1.0->pycocotools->coco_eval) (0.11.0)\n",
      "Requirement already satisfied: fonttools>=4.22.0 in c:\\users\\admin\\anaconda3\\lib\\site-packages (from matplotlib>=2.1.0->pycocotools->coco_eval) (4.25.0)\n",
      "Requirement already satisfied: kiwisolver>=1.0.1 in c:\\users\\admin\\anaconda3\\lib\\site-packages (from matplotlib>=2.1.0->pycocotools->coco_eval) (1.4.4)\n",
      "Requirement already satisfied: packaging>=20.0 in c:\\users\\admin\\anaconda3\\lib\\site-packages (from matplotlib>=2.1.0->pycocotools->coco_eval) (23.1)\n",
      "Requirement already satisfied: pillow>=6.2.0 in c:\\users\\admin\\anaconda3\\lib\\site-packages (from matplotlib>=2.1.0->pycocotools->coco_eval) (10.2.0)\n",
      "Requirement already satisfied: pyparsing>=2.3.1 in c:\\users\\admin\\anaconda3\\lib\\site-packages (from matplotlib>=2.1.0->pycocotools->coco_eval) (3.0.9)\n",
      "Requirement already satisfied: python-dateutil>=2.7 in c:\\users\\admin\\anaconda3\\lib\\site-packages (from matplotlib>=2.1.0->pycocotools->coco_eval) (2.8.2)\n",
      "Requirement already satisfied: intel-openmp==2021.* in c:\\users\\admin\\anaconda3\\lib\\site-packages (from mkl<=2021.4.0,>=2021.1.1->torch->coco_eval) (2021.4.0)\n",
      "Requirement already satisfied: tbb==2021.* in c:\\users\\admin\\anaconda3\\lib\\site-packages (from mkl<=2021.4.0,>=2021.1.1->torch->coco_eval) (2021.12.0)\n",
      "Requirement already satisfied: MarkupSafe>=2.0 in c:\\users\\admin\\anaconda3\\lib\\site-packages (from jinja2->torch->coco_eval) (2.1.3)\n",
      "Requirement already satisfied: mpmath>=0.19 in c:\\users\\admin\\anaconda3\\lib\\site-packages (from sympy->torch->coco_eval) (1.3.0)\n",
      "Requirement already satisfied: six>=1.5 in c:\\users\\admin\\anaconda3\\lib\\site-packages (from python-dateutil>=2.7->matplotlib>=2.1.0->pycocotools->coco_eval) (1.16.0)\n",
      "Building wheels for collected packages: coco_eval\n",
      "  Building wheel for coco_eval (setup.py): started\n",
      "  Building wheel for coco_eval (setup.py): finished with status 'done'\n",
      "  Created wheel for coco_eval: filename=coco_eval-0.0.4-py3-none-any.whl size=5022 sha256=6636fe9f8ca6016a17c4f7bfedf2e4e82af1015f1842f5557dfc8a6663aa8fc4\n",
      "  Stored in directory: c:\\users\\admin\\appdata\\local\\pip\\cache\\wheels\\a1\\9f\\46\\f0e4e2fab494ddd7afba1839e7f6036f5ae804fc66a89093f0\n",
      "Successfully built coco_eval\n",
      "Installing collected packages: coco_eval\n",
      "Successfully installed coco_eval-0.0.4\n"
     ]
    }
   ],
   "source": [
    "!pip install coco_eval"
   ]
  },
  {
   "cell_type": "code",
   "execution_count": 12,
   "id": "fa006d1b-62e4-403a-88b7-45d15971ab00",
   "metadata": {},
   "outputs": [
    {
     "name": "stdout",
     "output_type": "stream",
     "text": [
      "Collecting utils\n",
      "  Downloading utils-1.0.2.tar.gz (13 kB)\n",
      "  Preparing metadata (setup.py): started\n",
      "  Preparing metadata (setup.py): finished with status 'done'\n",
      "Building wheels for collected packages: utils\n",
      "  Building wheel for utils (setup.py): started\n",
      "  Building wheel for utils (setup.py): finished with status 'done'\n",
      "  Created wheel for utils: filename=utils-1.0.2-py2.py3-none-any.whl size=13934 sha256=9a537572e766a2779b15a7785ae945209853ef877fe1e8f72b095d09ecc3c691\n",
      "  Stored in directory: c:\\users\\admin\\appdata\\local\\pip\\cache\\wheels\\15\\0c\\b3\\674aea8c5d91c642c817d4d630bd58faa316724b136844094d\n",
      "Successfully built utils\n",
      "Installing collected packages: utils\n",
      "Successfully installed utils-1.0.2\n"
     ]
    }
   ],
   "source": [
    "!pip install utils"
   ]
  },
  {
   "cell_type": "code",
   "execution_count": 14,
   "id": "d9bfaf77-1169-4f77-94b9-ad33de123a6d",
   "metadata": {},
   "outputs": [
    {
     "name": "stdout",
     "output_type": "stream",
     "text": [
      "Name: coco-eval\n",
      "Version: 0.0.4\n",
      "Summary: A tiny package containing a COCO evaluator that works in distributed environments.\n",
      "Home-page: \n",
      "Author: Niels Rogge\n",
      "Author-email: niels.rogge1@gmail.com\n",
      "License: \n",
      "Location: C:\\Users\\admin\\anaconda3\\Lib\\site-packages\n",
      "Requires: numpy, pycocotools, torch\n",
      "Required-by: \n",
      "Name: coco-utils\n",
      "Version: 0.0.1\n",
      "Summary: utility functions for data explorations and metrics calculation on coco data format\n",
      "Home-page: \n",
      "Author: Prakash Jay\n",
      "Author-email: prakashjyy@gmail.com\n",
      "License: \n",
      "Location: C:\\Users\\admin\\anaconda3\\Lib\\site-packages\n",
      "Requires: fastcore, pycocotools\n",
      "Required-by: \n"
     ]
    }
   ],
   "source": [
    "!pip show coco_eval\n",
    "!pip show coco_utils"
   ]
  },
  {
   "cell_type": "code",
   "execution_count": null,
   "id": "e0f48bd6-9ca8-4d8a-9084-20a27e387ef0",
   "metadata": {},
   "outputs": [],
   "source": [
    "!pip uninstall coco_eval\n",
    "!pip uninstall coco_utils"
   ]
  }
 ],
 "metadata": {
  "kernelspec": {
   "display_name": "Python 3 (ipykernel)",
   "language": "python",
   "name": "python3"
  },
  "language_info": {
   "codemirror_mode": {
    "name": "ipython",
    "version": 3
   },
   "file_extension": ".py",
   "mimetype": "text/x-python",
   "name": "python",
   "nbconvert_exporter": "python",
   "pygments_lexer": "ipython3",
   "version": "3.11.7"
  }
 },
 "nbformat": 4,
 "nbformat_minor": 5
}
