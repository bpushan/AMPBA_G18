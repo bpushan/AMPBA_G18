{
  "nbformat": 4,
  "nbformat_minor": 0,
  "metadata": {
    "colab": {
      "provenance": [],
      "gpuType": "T4",
      "authorship_tag": "ABX9TyOnz5UdD9lyOzRCuIUkIyDi",
      "include_colab_link": true
    },
    "kernelspec": {
      "name": "python3",
      "display_name": "Python 3"
    },
    "language_info": {
      "name": "python"
    },
    "accelerator": "GPU"
  },
  "cells": [
    {
      "cell_type": "markdown",
      "metadata": {
        "id": "view-in-github",
        "colab_type": "text"
      },
      "source": [
        "<a href=\"https://colab.research.google.com/github/bpushan/AMPBA_G18/blob/FP2/LSTM_Stock_Prediction.ipynb\" target=\"_parent\"><img src=\"https://colab.research.google.com/assets/colab-badge.svg\" alt=\"Open In Colab\"/></a>"
      ]
    },
    {
      "cell_type": "markdown",
      "source": [
        "## Implementing a LSTM model for stock price prediction."
      ],
      "metadata": {
        "id": "3rPOaVrxIw8k"
      }
    },
    {
      "cell_type": "code",
      "execution_count": 1,
      "metadata": {
        "id": "lPKVeh77E0Qk"
      },
      "outputs": [],
      "source": [
        "import pandas as pd\n",
        "import numpy as np"
      ]
    },
    {
      "cell_type": "code",
      "source": [
        "from sklearn.preprocessing import MinMaxScaler"
      ],
      "metadata": {
        "id": "TFfOdWiJLKaN"
      },
      "execution_count": 2,
      "outputs": []
    },
    {
      "cell_type": "code",
      "source": [
        "from tensorflow.keras.models import Sequential\n",
        "from tensorflow.keras.layers import Dense\n",
        "from tensorflow.keras.layers import LSTM"
      ],
      "metadata": {
        "id": "b5NNKKRDTiPl"
      },
      "execution_count": 3,
      "outputs": []
    },
    {
      "cell_type": "code",
      "source": [
        "import math\n",
        "from sklearn.metrics import mean_squared_error"
      ],
      "metadata": {
        "id": "lV8QwqHoVK2r"
      },
      "execution_count": 4,
      "outputs": []
    },
    {
      "cell_type": "code",
      "source": [
        "import matplotlib.pyplot as plt"
      ],
      "metadata": {
        "id": "jvtIAxSYdnPn"
      },
      "execution_count": 5,
      "outputs": []
    },
    {
      "cell_type": "markdown",
      "source": [
        "#### URL of the CSV file on GitHub"
      ],
      "metadata": {
        "id": "pQlKnMKKIm4m"
      }
    },
    {
      "cell_type": "code",
      "source": [
        "url = 'https://raw.githubusercontent.com/bpushan/AMPBA_G18/FP2/stock_prc_data.csv'"
      ],
      "metadata": {
        "id": "dqqFCCouFxH7"
      },
      "execution_count": 6,
      "outputs": []
    },
    {
      "cell_type": "code",
      "source": [
        "# Read the CSV file into a DataFrame\n",
        "stock_prc_data = pd.read_csv(url)\n",
        "\n",
        "# Display the DataFrame\n",
        "print(stock_prc_data.head())"
      ],
      "metadata": {
        "colab": {
          "base_uri": "https://localhost:8080/"
        },
        "id": "TbduOwUzGU3O",
        "outputId": "2af6d80c-2cef-4290-be2b-6a57be53c593"
      },
      "execution_count": 7,
      "outputs": [
        {
          "output_type": "stream",
          "name": "stdout",
          "text": [
            "                        Date   HDFC_Open  HDFC_Close    HUL_Open   HUL_Close\n",
            "0  2012-01-02 00:00:00+05:30  193.554086  192.628967  329.679886  325.035370\n",
            "1  2012-01-03 00:00:00+05:30  194.682296  198.179718  327.337367  329.518280\n",
            "2  2012-01-04 00:00:00+05:30  199.420686  200.052475  329.235567  319.421509\n",
            "3  2012-01-05 00:00:00+05:30  200.368400  200.210449  318.977271  317.725281\n",
            "4  2012-01-06 00:00:00+05:30  199.014582  204.565323  318.048390  320.511993\n"
          ]
        }
      ]
    },
    {
      "cell_type": "markdown",
      "source": [
        "#### Getting the prices into dataframes by stocks."
      ],
      "metadata": {
        "id": "ogjq1qugI7BI"
      }
    },
    {
      "cell_type": "code",
      "source": [
        "HUL = stock_prc_data[['HUL_Close']].reset_index()\n",
        "# Rename specific columns\n",
        "HUL.rename(columns={\n",
        "    'HUL_Close': 'Close'\n",
        "}, inplace=True)\n",
        "\n",
        "HUL[:2]"
      ],
      "metadata": {
        "colab": {
          "base_uri": "https://localhost:8080/",
          "height": 112
        },
        "id": "2y2nQV3UJDNh",
        "outputId": "ed1176e4-6468-46e8-e4d4-1217038ea65b"
      },
      "execution_count": 8,
      "outputs": [
        {
          "output_type": "execute_result",
          "data": {
            "text/plain": [
              "   index      Close\n",
              "0      0  325.03537\n",
              "1      1  329.51828"
            ],
            "text/html": [
              "\n",
              "  <div id=\"df-bf0ddccc-1901-4702-883e-e8fe2894c65e\" class=\"colab-df-container\">\n",
              "    <div>\n",
              "<style scoped>\n",
              "    .dataframe tbody tr th:only-of-type {\n",
              "        vertical-align: middle;\n",
              "    }\n",
              "\n",
              "    .dataframe tbody tr th {\n",
              "        vertical-align: top;\n",
              "    }\n",
              "\n",
              "    .dataframe thead th {\n",
              "        text-align: right;\n",
              "    }\n",
              "</style>\n",
              "<table border=\"1\" class=\"dataframe\">\n",
              "  <thead>\n",
              "    <tr style=\"text-align: right;\">\n",
              "      <th></th>\n",
              "      <th>index</th>\n",
              "      <th>Close</th>\n",
              "    </tr>\n",
              "  </thead>\n",
              "  <tbody>\n",
              "    <tr>\n",
              "      <th>0</th>\n",
              "      <td>0</td>\n",
              "      <td>325.03537</td>\n",
              "    </tr>\n",
              "    <tr>\n",
              "      <th>1</th>\n",
              "      <td>1</td>\n",
              "      <td>329.51828</td>\n",
              "    </tr>\n",
              "  </tbody>\n",
              "</table>\n",
              "</div>\n",
              "    <div class=\"colab-df-buttons\">\n",
              "\n",
              "  <div class=\"colab-df-container\">\n",
              "    <button class=\"colab-df-convert\" onclick=\"convertToInteractive('df-bf0ddccc-1901-4702-883e-e8fe2894c65e')\"\n",
              "            title=\"Convert this dataframe to an interactive table.\"\n",
              "            style=\"display:none;\">\n",
              "\n",
              "  <svg xmlns=\"http://www.w3.org/2000/svg\" height=\"24px\" viewBox=\"0 -960 960 960\">\n",
              "    <path d=\"M120-120v-720h720v720H120Zm60-500h600v-160H180v160Zm220 220h160v-160H400v160Zm0 220h160v-160H400v160ZM180-400h160v-160H180v160Zm440 0h160v-160H620v160ZM180-180h160v-160H180v160Zm440 0h160v-160H620v160Z\"/>\n",
              "  </svg>\n",
              "    </button>\n",
              "\n",
              "  <style>\n",
              "    .colab-df-container {\n",
              "      display:flex;\n",
              "      gap: 12px;\n",
              "    }\n",
              "\n",
              "    .colab-df-convert {\n",
              "      background-color: #E8F0FE;\n",
              "      border: none;\n",
              "      border-radius: 50%;\n",
              "      cursor: pointer;\n",
              "      display: none;\n",
              "      fill: #1967D2;\n",
              "      height: 32px;\n",
              "      padding: 0 0 0 0;\n",
              "      width: 32px;\n",
              "    }\n",
              "\n",
              "    .colab-df-convert:hover {\n",
              "      background-color: #E2EBFA;\n",
              "      box-shadow: 0px 1px 2px rgba(60, 64, 67, 0.3), 0px 1px 3px 1px rgba(60, 64, 67, 0.15);\n",
              "      fill: #174EA6;\n",
              "    }\n",
              "\n",
              "    .colab-df-buttons div {\n",
              "      margin-bottom: 4px;\n",
              "    }\n",
              "\n",
              "    [theme=dark] .colab-df-convert {\n",
              "      background-color: #3B4455;\n",
              "      fill: #D2E3FC;\n",
              "    }\n",
              "\n",
              "    [theme=dark] .colab-df-convert:hover {\n",
              "      background-color: #434B5C;\n",
              "      box-shadow: 0px 1px 3px 1px rgba(0, 0, 0, 0.15);\n",
              "      filter: drop-shadow(0px 1px 2px rgba(0, 0, 0, 0.3));\n",
              "      fill: #FFFFFF;\n",
              "    }\n",
              "  </style>\n",
              "\n",
              "    <script>\n",
              "      const buttonEl =\n",
              "        document.querySelector('#df-bf0ddccc-1901-4702-883e-e8fe2894c65e button.colab-df-convert');\n",
              "      buttonEl.style.display =\n",
              "        google.colab.kernel.accessAllowed ? 'block' : 'none';\n",
              "\n",
              "      async function convertToInteractive(key) {\n",
              "        const element = document.querySelector('#df-bf0ddccc-1901-4702-883e-e8fe2894c65e');\n",
              "        const dataTable =\n",
              "          await google.colab.kernel.invokeFunction('convertToInteractive',\n",
              "                                                    [key], {});\n",
              "        if (!dataTable) return;\n",
              "\n",
              "        const docLinkHtml = 'Like what you see? Visit the ' +\n",
              "          '<a target=\"_blank\" href=https://colab.research.google.com/notebooks/data_table.ipynb>data table notebook</a>'\n",
              "          + ' to learn more about interactive tables.';\n",
              "        element.innerHTML = '';\n",
              "        dataTable['output_type'] = 'display_data';\n",
              "        await google.colab.output.renderOutput(dataTable, element);\n",
              "        const docLink = document.createElement('div');\n",
              "        docLink.innerHTML = docLinkHtml;\n",
              "        element.appendChild(docLink);\n",
              "      }\n",
              "    </script>\n",
              "  </div>\n",
              "\n",
              "\n",
              "<div id=\"df-2aa84129-2af5-4c4c-aee4-d397407375e4\">\n",
              "  <button class=\"colab-df-quickchart\" onclick=\"quickchart('df-2aa84129-2af5-4c4c-aee4-d397407375e4')\"\n",
              "            title=\"Suggest charts\"\n",
              "            style=\"display:none;\">\n",
              "\n",
              "<svg xmlns=\"http://www.w3.org/2000/svg\" height=\"24px\"viewBox=\"0 0 24 24\"\n",
              "     width=\"24px\">\n",
              "    <g>\n",
              "        <path d=\"M19 3H5c-1.1 0-2 .9-2 2v14c0 1.1.9 2 2 2h14c1.1 0 2-.9 2-2V5c0-1.1-.9-2-2-2zM9 17H7v-7h2v7zm4 0h-2V7h2v10zm4 0h-2v-4h2v4z\"/>\n",
              "    </g>\n",
              "</svg>\n",
              "  </button>\n",
              "\n",
              "<style>\n",
              "  .colab-df-quickchart {\n",
              "      --bg-color: #E8F0FE;\n",
              "      --fill-color: #1967D2;\n",
              "      --hover-bg-color: #E2EBFA;\n",
              "      --hover-fill-color: #174EA6;\n",
              "      --disabled-fill-color: #AAA;\n",
              "      --disabled-bg-color: #DDD;\n",
              "  }\n",
              "\n",
              "  [theme=dark] .colab-df-quickchart {\n",
              "      --bg-color: #3B4455;\n",
              "      --fill-color: #D2E3FC;\n",
              "      --hover-bg-color: #434B5C;\n",
              "      --hover-fill-color: #FFFFFF;\n",
              "      --disabled-bg-color: #3B4455;\n",
              "      --disabled-fill-color: #666;\n",
              "  }\n",
              "\n",
              "  .colab-df-quickchart {\n",
              "    background-color: var(--bg-color);\n",
              "    border: none;\n",
              "    border-radius: 50%;\n",
              "    cursor: pointer;\n",
              "    display: none;\n",
              "    fill: var(--fill-color);\n",
              "    height: 32px;\n",
              "    padding: 0;\n",
              "    width: 32px;\n",
              "  }\n",
              "\n",
              "  .colab-df-quickchart:hover {\n",
              "    background-color: var(--hover-bg-color);\n",
              "    box-shadow: 0 1px 2px rgba(60, 64, 67, 0.3), 0 1px 3px 1px rgba(60, 64, 67, 0.15);\n",
              "    fill: var(--button-hover-fill-color);\n",
              "  }\n",
              "\n",
              "  .colab-df-quickchart-complete:disabled,\n",
              "  .colab-df-quickchart-complete:disabled:hover {\n",
              "    background-color: var(--disabled-bg-color);\n",
              "    fill: var(--disabled-fill-color);\n",
              "    box-shadow: none;\n",
              "  }\n",
              "\n",
              "  .colab-df-spinner {\n",
              "    border: 2px solid var(--fill-color);\n",
              "    border-color: transparent;\n",
              "    border-bottom-color: var(--fill-color);\n",
              "    animation:\n",
              "      spin 1s steps(1) infinite;\n",
              "  }\n",
              "\n",
              "  @keyframes spin {\n",
              "    0% {\n",
              "      border-color: transparent;\n",
              "      border-bottom-color: var(--fill-color);\n",
              "      border-left-color: var(--fill-color);\n",
              "    }\n",
              "    20% {\n",
              "      border-color: transparent;\n",
              "      border-left-color: var(--fill-color);\n",
              "      border-top-color: var(--fill-color);\n",
              "    }\n",
              "    30% {\n",
              "      border-color: transparent;\n",
              "      border-left-color: var(--fill-color);\n",
              "      border-top-color: var(--fill-color);\n",
              "      border-right-color: var(--fill-color);\n",
              "    }\n",
              "    40% {\n",
              "      border-color: transparent;\n",
              "      border-right-color: var(--fill-color);\n",
              "      border-top-color: var(--fill-color);\n",
              "    }\n",
              "    60% {\n",
              "      border-color: transparent;\n",
              "      border-right-color: var(--fill-color);\n",
              "    }\n",
              "    80% {\n",
              "      border-color: transparent;\n",
              "      border-right-color: var(--fill-color);\n",
              "      border-bottom-color: var(--fill-color);\n",
              "    }\n",
              "    90% {\n",
              "      border-color: transparent;\n",
              "      border-bottom-color: var(--fill-color);\n",
              "    }\n",
              "  }\n",
              "</style>\n",
              "\n",
              "  <script>\n",
              "    async function quickchart(key) {\n",
              "      const quickchartButtonEl =\n",
              "        document.querySelector('#' + key + ' button');\n",
              "      quickchartButtonEl.disabled = true;  // To prevent multiple clicks.\n",
              "      quickchartButtonEl.classList.add('colab-df-spinner');\n",
              "      try {\n",
              "        const charts = await google.colab.kernel.invokeFunction(\n",
              "            'suggestCharts', [key], {});\n",
              "      } catch (error) {\n",
              "        console.error('Error during call to suggestCharts:', error);\n",
              "      }\n",
              "      quickchartButtonEl.classList.remove('colab-df-spinner');\n",
              "      quickchartButtonEl.classList.add('colab-df-quickchart-complete');\n",
              "    }\n",
              "    (() => {\n",
              "      let quickchartButtonEl =\n",
              "        document.querySelector('#df-2aa84129-2af5-4c4c-aee4-d397407375e4 button');\n",
              "      quickchartButtonEl.style.display =\n",
              "        google.colab.kernel.accessAllowed ? 'block' : 'none';\n",
              "    })();\n",
              "  </script>\n",
              "</div>\n",
              "\n",
              "    </div>\n",
              "  </div>\n"
            ],
            "application/vnd.google.colaboratory.intrinsic+json": {
              "type": "dataframe",
              "summary": "{\n  \"name\": \"HUL[:2]\",\n  \"rows\": 2,\n  \"fields\": [\n    {\n      \"column\": \"index\",\n      \"properties\": {\n        \"dtype\": \"number\",\n        \"std\": 0,\n        \"min\": 0,\n        \"max\": 1,\n        \"num_unique_values\": 2,\n        \"samples\": [\n          1,\n          0\n        ],\n        \"semantic_type\": \"\",\n        \"description\": \"\"\n      }\n    },\n    {\n      \"column\": \"Close\",\n      \"properties\": {\n        \"dtype\": \"number\",\n        \"std\": 3.1698961709344204,\n        \"min\": 325.0353698730469,\n        \"max\": 329.5182800292969,\n        \"num_unique_values\": 2,\n        \"samples\": [\n          329.5182800292969,\n          325.0353698730469\n        ],\n        \"semantic_type\": \"\",\n        \"description\": \"\"\n      }\n    }\n  ]\n}"
            }
          },
          "metadata": {},
          "execution_count": 8
        }
      ]
    },
    {
      "cell_type": "code",
      "source": [
        "HDFC = stock_prc_data[['HDFC_Close']].reset_index()\n",
        "# Rename specific columns\n",
        "HDFC.rename(columns={\n",
        "    'HDFC_Close': 'Close'\n",
        "}, inplace=True)\n",
        "\n",
        "HDFC[:2]"
      ],
      "metadata": {
        "colab": {
          "base_uri": "https://localhost:8080/",
          "height": 112
        },
        "id": "30pK1nQxJO6f",
        "outputId": "ed392087-ae1d-4a11-dd43-5f3ba4c59900"
      },
      "execution_count": 9,
      "outputs": [
        {
          "output_type": "execute_result",
          "data": {
            "text/plain": [
              "   index       Close\n",
              "0      0  192.628967\n",
              "1      1  198.179718"
            ],
            "text/html": [
              "\n",
              "  <div id=\"df-b32b4742-ee3a-42f7-b39b-cc50c4d829ed\" class=\"colab-df-container\">\n",
              "    <div>\n",
              "<style scoped>\n",
              "    .dataframe tbody tr th:only-of-type {\n",
              "        vertical-align: middle;\n",
              "    }\n",
              "\n",
              "    .dataframe tbody tr th {\n",
              "        vertical-align: top;\n",
              "    }\n",
              "\n",
              "    .dataframe thead th {\n",
              "        text-align: right;\n",
              "    }\n",
              "</style>\n",
              "<table border=\"1\" class=\"dataframe\">\n",
              "  <thead>\n",
              "    <tr style=\"text-align: right;\">\n",
              "      <th></th>\n",
              "      <th>index</th>\n",
              "      <th>Close</th>\n",
              "    </tr>\n",
              "  </thead>\n",
              "  <tbody>\n",
              "    <tr>\n",
              "      <th>0</th>\n",
              "      <td>0</td>\n",
              "      <td>192.628967</td>\n",
              "    </tr>\n",
              "    <tr>\n",
              "      <th>1</th>\n",
              "      <td>1</td>\n",
              "      <td>198.179718</td>\n",
              "    </tr>\n",
              "  </tbody>\n",
              "</table>\n",
              "</div>\n",
              "    <div class=\"colab-df-buttons\">\n",
              "\n",
              "  <div class=\"colab-df-container\">\n",
              "    <button class=\"colab-df-convert\" onclick=\"convertToInteractive('df-b32b4742-ee3a-42f7-b39b-cc50c4d829ed')\"\n",
              "            title=\"Convert this dataframe to an interactive table.\"\n",
              "            style=\"display:none;\">\n",
              "\n",
              "  <svg xmlns=\"http://www.w3.org/2000/svg\" height=\"24px\" viewBox=\"0 -960 960 960\">\n",
              "    <path d=\"M120-120v-720h720v720H120Zm60-500h600v-160H180v160Zm220 220h160v-160H400v160Zm0 220h160v-160H400v160ZM180-400h160v-160H180v160Zm440 0h160v-160H620v160ZM180-180h160v-160H180v160Zm440 0h160v-160H620v160Z\"/>\n",
              "  </svg>\n",
              "    </button>\n",
              "\n",
              "  <style>\n",
              "    .colab-df-container {\n",
              "      display:flex;\n",
              "      gap: 12px;\n",
              "    }\n",
              "\n",
              "    .colab-df-convert {\n",
              "      background-color: #E8F0FE;\n",
              "      border: none;\n",
              "      border-radius: 50%;\n",
              "      cursor: pointer;\n",
              "      display: none;\n",
              "      fill: #1967D2;\n",
              "      height: 32px;\n",
              "      padding: 0 0 0 0;\n",
              "      width: 32px;\n",
              "    }\n",
              "\n",
              "    .colab-df-convert:hover {\n",
              "      background-color: #E2EBFA;\n",
              "      box-shadow: 0px 1px 2px rgba(60, 64, 67, 0.3), 0px 1px 3px 1px rgba(60, 64, 67, 0.15);\n",
              "      fill: #174EA6;\n",
              "    }\n",
              "\n",
              "    .colab-df-buttons div {\n",
              "      margin-bottom: 4px;\n",
              "    }\n",
              "\n",
              "    [theme=dark] .colab-df-convert {\n",
              "      background-color: #3B4455;\n",
              "      fill: #D2E3FC;\n",
              "    }\n",
              "\n",
              "    [theme=dark] .colab-df-convert:hover {\n",
              "      background-color: #434B5C;\n",
              "      box-shadow: 0px 1px 3px 1px rgba(0, 0, 0, 0.15);\n",
              "      filter: drop-shadow(0px 1px 2px rgba(0, 0, 0, 0.3));\n",
              "      fill: #FFFFFF;\n",
              "    }\n",
              "  </style>\n",
              "\n",
              "    <script>\n",
              "      const buttonEl =\n",
              "        document.querySelector('#df-b32b4742-ee3a-42f7-b39b-cc50c4d829ed button.colab-df-convert');\n",
              "      buttonEl.style.display =\n",
              "        google.colab.kernel.accessAllowed ? 'block' : 'none';\n",
              "\n",
              "      async function convertToInteractive(key) {\n",
              "        const element = document.querySelector('#df-b32b4742-ee3a-42f7-b39b-cc50c4d829ed');\n",
              "        const dataTable =\n",
              "          await google.colab.kernel.invokeFunction('convertToInteractive',\n",
              "                                                    [key], {});\n",
              "        if (!dataTable) return;\n",
              "\n",
              "        const docLinkHtml = 'Like what you see? Visit the ' +\n",
              "          '<a target=\"_blank\" href=https://colab.research.google.com/notebooks/data_table.ipynb>data table notebook</a>'\n",
              "          + ' to learn more about interactive tables.';\n",
              "        element.innerHTML = '';\n",
              "        dataTable['output_type'] = 'display_data';\n",
              "        await google.colab.output.renderOutput(dataTable, element);\n",
              "        const docLink = document.createElement('div');\n",
              "        docLink.innerHTML = docLinkHtml;\n",
              "        element.appendChild(docLink);\n",
              "      }\n",
              "    </script>\n",
              "  </div>\n",
              "\n",
              "\n",
              "<div id=\"df-dc4596f0-282b-456e-b697-6c1acb75f04b\">\n",
              "  <button class=\"colab-df-quickchart\" onclick=\"quickchart('df-dc4596f0-282b-456e-b697-6c1acb75f04b')\"\n",
              "            title=\"Suggest charts\"\n",
              "            style=\"display:none;\">\n",
              "\n",
              "<svg xmlns=\"http://www.w3.org/2000/svg\" height=\"24px\"viewBox=\"0 0 24 24\"\n",
              "     width=\"24px\">\n",
              "    <g>\n",
              "        <path d=\"M19 3H5c-1.1 0-2 .9-2 2v14c0 1.1.9 2 2 2h14c1.1 0 2-.9 2-2V5c0-1.1-.9-2-2-2zM9 17H7v-7h2v7zm4 0h-2V7h2v10zm4 0h-2v-4h2v4z\"/>\n",
              "    </g>\n",
              "</svg>\n",
              "  </button>\n",
              "\n",
              "<style>\n",
              "  .colab-df-quickchart {\n",
              "      --bg-color: #E8F0FE;\n",
              "      --fill-color: #1967D2;\n",
              "      --hover-bg-color: #E2EBFA;\n",
              "      --hover-fill-color: #174EA6;\n",
              "      --disabled-fill-color: #AAA;\n",
              "      --disabled-bg-color: #DDD;\n",
              "  }\n",
              "\n",
              "  [theme=dark] .colab-df-quickchart {\n",
              "      --bg-color: #3B4455;\n",
              "      --fill-color: #D2E3FC;\n",
              "      --hover-bg-color: #434B5C;\n",
              "      --hover-fill-color: #FFFFFF;\n",
              "      --disabled-bg-color: #3B4455;\n",
              "      --disabled-fill-color: #666;\n",
              "  }\n",
              "\n",
              "  .colab-df-quickchart {\n",
              "    background-color: var(--bg-color);\n",
              "    border: none;\n",
              "    border-radius: 50%;\n",
              "    cursor: pointer;\n",
              "    display: none;\n",
              "    fill: var(--fill-color);\n",
              "    height: 32px;\n",
              "    padding: 0;\n",
              "    width: 32px;\n",
              "  }\n",
              "\n",
              "  .colab-df-quickchart:hover {\n",
              "    background-color: var(--hover-bg-color);\n",
              "    box-shadow: 0 1px 2px rgba(60, 64, 67, 0.3), 0 1px 3px 1px rgba(60, 64, 67, 0.15);\n",
              "    fill: var(--button-hover-fill-color);\n",
              "  }\n",
              "\n",
              "  .colab-df-quickchart-complete:disabled,\n",
              "  .colab-df-quickchart-complete:disabled:hover {\n",
              "    background-color: var(--disabled-bg-color);\n",
              "    fill: var(--disabled-fill-color);\n",
              "    box-shadow: none;\n",
              "  }\n",
              "\n",
              "  .colab-df-spinner {\n",
              "    border: 2px solid var(--fill-color);\n",
              "    border-color: transparent;\n",
              "    border-bottom-color: var(--fill-color);\n",
              "    animation:\n",
              "      spin 1s steps(1) infinite;\n",
              "  }\n",
              "\n",
              "  @keyframes spin {\n",
              "    0% {\n",
              "      border-color: transparent;\n",
              "      border-bottom-color: var(--fill-color);\n",
              "      border-left-color: var(--fill-color);\n",
              "    }\n",
              "    20% {\n",
              "      border-color: transparent;\n",
              "      border-left-color: var(--fill-color);\n",
              "      border-top-color: var(--fill-color);\n",
              "    }\n",
              "    30% {\n",
              "      border-color: transparent;\n",
              "      border-left-color: var(--fill-color);\n",
              "      border-top-color: var(--fill-color);\n",
              "      border-right-color: var(--fill-color);\n",
              "    }\n",
              "    40% {\n",
              "      border-color: transparent;\n",
              "      border-right-color: var(--fill-color);\n",
              "      border-top-color: var(--fill-color);\n",
              "    }\n",
              "    60% {\n",
              "      border-color: transparent;\n",
              "      border-right-color: var(--fill-color);\n",
              "    }\n",
              "    80% {\n",
              "      border-color: transparent;\n",
              "      border-right-color: var(--fill-color);\n",
              "      border-bottom-color: var(--fill-color);\n",
              "    }\n",
              "    90% {\n",
              "      border-color: transparent;\n",
              "      border-bottom-color: var(--fill-color);\n",
              "    }\n",
              "  }\n",
              "</style>\n",
              "\n",
              "  <script>\n",
              "    async function quickchart(key) {\n",
              "      const quickchartButtonEl =\n",
              "        document.querySelector('#' + key + ' button');\n",
              "      quickchartButtonEl.disabled = true;  // To prevent multiple clicks.\n",
              "      quickchartButtonEl.classList.add('colab-df-spinner');\n",
              "      try {\n",
              "        const charts = await google.colab.kernel.invokeFunction(\n",
              "            'suggestCharts', [key], {});\n",
              "      } catch (error) {\n",
              "        console.error('Error during call to suggestCharts:', error);\n",
              "      }\n",
              "      quickchartButtonEl.classList.remove('colab-df-spinner');\n",
              "      quickchartButtonEl.classList.add('colab-df-quickchart-complete');\n",
              "    }\n",
              "    (() => {\n",
              "      let quickchartButtonEl =\n",
              "        document.querySelector('#df-dc4596f0-282b-456e-b697-6c1acb75f04b button');\n",
              "      quickchartButtonEl.style.display =\n",
              "        google.colab.kernel.accessAllowed ? 'block' : 'none';\n",
              "    })();\n",
              "  </script>\n",
              "</div>\n",
              "\n",
              "    </div>\n",
              "  </div>\n"
            ],
            "application/vnd.google.colaboratory.intrinsic+json": {
              "type": "dataframe",
              "summary": "{\n  \"name\": \"HDFC[:2]\",\n  \"rows\": 2,\n  \"fields\": [\n    {\n      \"column\": \"index\",\n      \"properties\": {\n        \"dtype\": \"number\",\n        \"std\": 0,\n        \"min\": 0,\n        \"max\": 1,\n        \"num_unique_values\": 2,\n        \"samples\": [\n          1,\n          0\n        ],\n        \"semantic_type\": \"\",\n        \"description\": \"\"\n      }\n    },\n    {\n      \"column\": \"Close\",\n      \"properties\": {\n        \"dtype\": \"number\",\n        \"std\": 3.9249734835716628,\n        \"min\": 192.62896728515625,\n        \"max\": 198.17971801757807,\n        \"num_unique_values\": 2,\n        \"samples\": [\n          198.17971801757807,\n          192.62896728515625\n        ],\n        \"semantic_type\": \"\",\n        \"description\": \"\"\n      }\n    }\n  ]\n}"
            }
          },
          "metadata": {},
          "execution_count": 9
        }
      ]
    },
    {
      "cell_type": "markdown",
      "source": [
        "#### Scaling the data with min-max scaling"
      ],
      "metadata": {
        "id": "hgj5EEQ_LXgy"
      }
    },
    {
      "cell_type": "code",
      "source": [
        "scaler=MinMaxScaler(feature_range=(0,1))\n",
        "HUL = scaler.fit_transform(np.array(HUL).reshape(-1,1))\n",
        "HDFC = scaler.fit_transform(np.array(HDFC).reshape(-1,1))"
      ],
      "metadata": {
        "id": "HDth_gyQKrJe"
      },
      "execution_count": 10,
      "outputs": []
    },
    {
      "cell_type": "markdown",
      "source": [
        "#### Splitting dataset into train (70%) and test (30%) split"
      ],
      "metadata": {
        "id": "1N85rJLCLhPe"
      }
    },
    {
      "cell_type": "code",
      "source": [
        "training_size = int(len(HDFC)*0.7)\n",
        "test_size = len(HDFC)-training_size\n",
        "train_data_HDFC, test_data_HDFC = HDFC[0:training_size,:], HDFC[training_size:len(HDFC),:1]\n",
        "\n",
        "training_size = int(len(HUL)*0.7)\n",
        "test_size = len(HUL)-training_size\n",
        "train_data_HUL, test_data_HUL = HUL[0:training_size,:], HUL[training_size:len(HUL),:1]"
      ],
      "metadata": {
        "id": "Arf7Z6WILpFh"
      },
      "execution_count": 11,
      "outputs": []
    },
    {
      "cell_type": "code",
      "source": [
        "print(\"HDFC train, test: \", train_data_HDFC.shape, test_data_HDFC.shape)\n",
        "print(\"HUL train, test: \", train_data_HUL.shape, test_data_HDFC.shape)"
      ],
      "metadata": {
        "colab": {
          "base_uri": "https://localhost:8080/"
        },
        "id": "pvAgvcITMdW5",
        "outputId": "a738b1ff-4f48-40b6-e15e-ab6f55db78a1"
      },
      "execution_count": 12,
      "outputs": [
        {
          "output_type": "stream",
          "name": "stdout",
          "text": [
            "HDFC train, test:  (4141, 1) (1775, 1)\n",
            "HUL train, test:  (4141, 1) (1775, 1)\n"
          ]
        }
      ]
    },
    {
      "cell_type": "markdown",
      "source": [
        "#### Data needs to be arranged in the form\n",
        "##### priceday-3, priceday-2 priceday-1 => priceday\n",
        "##### the number of time to be usedis a hyper parameter here."
      ],
      "metadata": {
        "id": "xBgJlMskNtqs"
      }
    },
    {
      "cell_type": "code",
      "source": [
        "# convert an array of values into a dataset matrix\n",
        "def create_dataset(dataset, time_step=1):\n",
        "\tdataX, dataY = [], []\n",
        "\tfor i in range(len(dataset)-time_step-1):\n",
        "\t\ta = dataset[i:(i+time_step), 0]   ###i=0, 0,1,2,3-----99   100\n",
        "\t\tdataX.append(a)\n",
        "\t\tdataY.append(dataset[i + time_step, 0])\n",
        "\treturn np.array(dataX), np.array(dataY)"
      ],
      "metadata": {
        "id": "LGIOVxLdOab6"
      },
      "execution_count": 13,
      "outputs": []
    },
    {
      "cell_type": "code",
      "source": [
        "# reshape into X=t,t+1,t+2,t+3 and Y=t+4\n",
        "time_step = 100"
      ],
      "metadata": {
        "id": "CLmuaDEpQwZM"
      },
      "execution_count": 14,
      "outputs": []
    },
    {
      "cell_type": "code",
      "source": [
        "X_train_HDFC, y_train_HDFC = create_dataset(train_data_HDFC, time_step)\n",
        "X_test_HDFC, y_test_HDFC = create_dataset(test_data_HDFC, time_step)\n",
        "\n",
        "print(\"HDFC Train Shape: \", X_train_HDFC.shape, y_train_HDFC.shape)\n",
        "print(\"HDFC Test Shape: \", X_test_HDFC.shape, y_test_HDFC.shape)"
      ],
      "metadata": {
        "colab": {
          "base_uri": "https://localhost:8080/"
        },
        "id": "LXd3uqLjQ1f1",
        "outputId": "2fa279d9-bf09-4cf9-f7cf-97c5130b2df1"
      },
      "execution_count": 15,
      "outputs": [
        {
          "output_type": "stream",
          "name": "stdout",
          "text": [
            "HDFC Train Shape:  (4040, 100) (4040,)\n",
            "HDFC Test Shape:  (1674, 100) (1674,)\n"
          ]
        }
      ]
    },
    {
      "cell_type": "code",
      "source": [
        "X_train_HUL, y_train_HUL = create_dataset(train_data_HUL, time_step)\n",
        "X_test_HUL, y_test_HUL = create_dataset(test_data_HUL, time_step)\n",
        "\n",
        "print(\"HUL Train Shape: \", X_train_HUL.shape, y_train_HUL.shape)\n",
        "print(\"HUL Test Shape: \", X_test_HUL.shape, y_test_HUL.shape)"
      ],
      "metadata": {
        "colab": {
          "base_uri": "https://localhost:8080/"
        },
        "id": "TcZSCqkARxTu",
        "outputId": "88582e02-76c7-4d83-bf40-2671ea1897fa"
      },
      "execution_count": 16,
      "outputs": [
        {
          "output_type": "stream",
          "name": "stdout",
          "text": [
            "HUL Train Shape:  (4040, 100) (4040,)\n",
            "HUL Test Shape:  (1674, 100) (1674,)\n"
          ]
        }
      ]
    },
    {
      "cell_type": "markdown",
      "source": [
        "#### Reshape input to be [samples, time steps, features] which is required for LSTM"
      ],
      "metadata": {
        "id": "pr-VoGpBS4rg"
      }
    },
    {
      "cell_type": "code",
      "source": [
        "X_train_HDFC =X_train_HDFC.reshape(X_train_HDFC.shape[0],X_train_HDFC.shape[1] , 1)\n",
        "X_test_HDFC = X_test_HDFC.reshape(X_test_HDFC.shape[0],X_test_HDFC.shape[1] , 1)"
      ],
      "metadata": {
        "id": "FYoxTi3US0Zr"
      },
      "execution_count": 17,
      "outputs": []
    },
    {
      "cell_type": "code",
      "source": [
        "X_train_HUL =X_train_HUL.reshape(X_train_HUL.shape[0],X_train_HUL.shape[1] , 1)\n",
        "X_test_HUL = X_test_HUL.reshape(X_test_HUL.shape[0],X_test_HUL.shape[1] , 1)"
      ],
      "metadata": {
        "id": "7Ileo439TN9k"
      },
      "execution_count": 18,
      "outputs": []
    },
    {
      "cell_type": "markdown",
      "source": [
        "### Create the Stacked LSTM model."
      ],
      "metadata": {
        "id": "X70CX8lvTawF"
      }
    },
    {
      "cell_type": "code",
      "source": [
        "model=Sequential()\n",
        "model.add(LSTM(100,return_sequences=True,input_shape=(100,1)))\n",
        "model.add(LSTM(50,return_sequences=True))\n",
        "model.add(LSTM(50))\n",
        "model.add(Dense(1))\n",
        "model.compile(loss='mean_squared_error',optimizer='adam')"
      ],
      "metadata": {
        "id": "suJTZC7kTxOs"
      },
      "execution_count": 19,
      "outputs": []
    },
    {
      "cell_type": "code",
      "source": [
        "model.summary()"
      ],
      "metadata": {
        "colab": {
          "base_uri": "https://localhost:8080/"
        },
        "id": "QTsKNfAbT7r-",
        "outputId": "1a1d630f-b31e-4ce1-feae-841195e722b5"
      },
      "execution_count": 20,
      "outputs": [
        {
          "output_type": "stream",
          "name": "stdout",
          "text": [
            "Model: \"sequential\"\n",
            "_________________________________________________________________\n",
            " Layer (type)                Output Shape              Param #   \n",
            "=================================================================\n",
            " lstm (LSTM)                 (None, 100, 100)          40800     \n",
            "                                                                 \n",
            " lstm_1 (LSTM)               (None, 100, 50)           30200     \n",
            "                                                                 \n",
            " lstm_2 (LSTM)               (None, 50)                20200     \n",
            "                                                                 \n",
            " dense (Dense)               (None, 1)                 51        \n",
            "                                                                 \n",
            "=================================================================\n",
            "Total params: 91251 (356.45 KB)\n",
            "Trainable params: 91251 (356.45 KB)\n",
            "Non-trainable params: 0 (0.00 Byte)\n",
            "_________________________________________________________________\n"
          ]
        }
      ]
    },
    {
      "cell_type": "code",
      "source": [
        "model.fit(X_train_HDFC,y_train_HDFC,validation_data=(X_test_HDFC,y_test_HDFC),epochs=25,batch_size=64,verbose=1)"
      ],
      "metadata": {
        "colab": {
          "base_uri": "https://localhost:8080/"
        },
        "id": "wNHi6SstUPiW",
        "outputId": "1e5e935f-825b-4c86-cc82-9abc38d184df"
      },
      "execution_count": 21,
      "outputs": [
        {
          "output_type": "stream",
          "name": "stdout",
          "text": [
            "Epoch 1/25\n",
            "64/64 [==============================] - 9s 33ms/step - loss: 0.0143 - val_loss: 0.0366\n",
            "Epoch 2/25\n",
            "64/64 [==============================] - 1s 16ms/step - loss: 0.0083 - val_loss: 0.0363\n",
            "Epoch 3/25\n",
            "64/64 [==============================] - 1s 16ms/step - loss: 0.0081 - val_loss: 0.0362\n",
            "Epoch 4/25\n",
            "64/64 [==============================] - 1s 16ms/step - loss: 0.0084 - val_loss: 0.0355\n",
            "Epoch 5/25\n",
            "64/64 [==============================] - 1s 22ms/step - loss: 0.0085 - val_loss: 0.0469\n",
            "Epoch 6/25\n",
            "64/64 [==============================] - 1s 23ms/step - loss: 0.0086 - val_loss: 0.0398\n",
            "Epoch 7/25\n",
            "64/64 [==============================] - 1s 16ms/step - loss: 0.0086 - val_loss: 0.0377\n",
            "Epoch 8/25\n",
            "64/64 [==============================] - 1s 16ms/step - loss: 0.0083 - val_loss: 0.0371\n",
            "Epoch 9/25\n",
            "64/64 [==============================] - 1s 16ms/step - loss: 0.0083 - val_loss: 0.0370\n",
            "Epoch 10/25\n",
            "64/64 [==============================] - 1s 16ms/step - loss: 0.0083 - val_loss: 0.0350\n",
            "Epoch 11/25\n",
            "64/64 [==============================] - 1s 16ms/step - loss: 0.0083 - val_loss: 0.0447\n",
            "Epoch 12/25\n",
            "64/64 [==============================] - 1s 16ms/step - loss: 0.0083 - val_loss: 0.0350\n",
            "Epoch 13/25\n",
            "64/64 [==============================] - 1s 16ms/step - loss: 0.0084 - val_loss: 0.0359\n",
            "Epoch 14/25\n",
            "64/64 [==============================] - 1s 16ms/step - loss: 0.0082 - val_loss: 0.0388\n",
            "Epoch 15/25\n",
            "64/64 [==============================] - 1s 16ms/step - loss: 0.0081 - val_loss: 0.0376\n",
            "Epoch 16/25\n",
            "64/64 [==============================] - 1s 16ms/step - loss: 0.0082 - val_loss: 0.0349\n",
            "Epoch 17/25\n",
            "64/64 [==============================] - 1s 22ms/step - loss: 0.0082 - val_loss: 0.0363\n",
            "Epoch 18/25\n",
            "64/64 [==============================] - 1s 22ms/step - loss: 0.0081 - val_loss: 0.0376\n",
            "Epoch 19/25\n",
            "64/64 [==============================] - 1s 16ms/step - loss: 0.0083 - val_loss: 0.0378\n",
            "Epoch 20/25\n",
            "64/64 [==============================] - 1s 16ms/step - loss: 0.0080 - val_loss: 0.0353\n",
            "Epoch 21/25\n",
            "64/64 [==============================] - 1s 16ms/step - loss: 0.0073 - val_loss: 0.0760\n",
            "Epoch 22/25\n",
            "64/64 [==============================] - 1s 16ms/step - loss: 8.5461e-04 - val_loss: 0.0013\n",
            "Epoch 23/25\n",
            "64/64 [==============================] - 1s 16ms/step - loss: 3.8101e-05 - val_loss: 7.8818e-04\n",
            "Epoch 24/25\n",
            "64/64 [==============================] - 1s 16ms/step - loss: 2.9095e-05 - val_loss: 7.4472e-04\n",
            "Epoch 25/25\n",
            "64/64 [==============================] - 1s 16ms/step - loss: 3.5453e-05 - val_loss: 4.6877e-04\n"
          ]
        },
        {
          "output_type": "execute_result",
          "data": {
            "text/plain": [
              "<keras.src.callbacks.History at 0x79db4c5c5a80>"
            ]
          },
          "metadata": {},
          "execution_count": 21
        }
      ]
    },
    {
      "cell_type": "markdown",
      "source": [
        "#### Lets Do the prediction and check performance metrics"
      ],
      "metadata": {
        "id": "HNdrexfSWHjZ"
      }
    },
    {
      "cell_type": "code",
      "source": [
        "train_predict=model.predict(X_train_HDFC)\n",
        "test_predict=model.predict(X_test_HDFC)"
      ],
      "metadata": {
        "colab": {
          "base_uri": "https://localhost:8080/"
        },
        "id": "hSiu1Ar1WBo6",
        "outputId": "13a3f186-285a-4bfc-df2b-3782b9feb8a0"
      },
      "execution_count": 22,
      "outputs": [
        {
          "output_type": "stream",
          "name": "stdout",
          "text": [
            "127/127 [==============================] - 2s 6ms/step\n",
            "53/53 [==============================] - 0s 6ms/step\n"
          ]
        }
      ]
    },
    {
      "cell_type": "markdown",
      "source": [
        "####Transformback to original form"
      ],
      "metadata": {
        "id": "Z5I8VkflWeAI"
      }
    },
    {
      "cell_type": "code",
      "source": [
        "train_predict=scaler.inverse_transform(train_predict)\n",
        "test_predict=scaler.inverse_transform(test_predict)"
      ],
      "metadata": {
        "id": "KkU-RrOHWeg7"
      },
      "execution_count": 23,
      "outputs": []
    },
    {
      "cell_type": "markdown",
      "source": [
        "#### Calculate RMSE performance metrics"
      ],
      "metadata": {
        "id": "uWyO7m7OWww_"
      }
    },
    {
      "cell_type": "code",
      "source": [
        "math.sqrt(mean_squared_error(y_train_HDFC,train_predict))"
      ],
      "metadata": {
        "colab": {
          "base_uri": "https://localhost:8080/"
        },
        "id": "D66hPNOvWrwN",
        "outputId": "8777c0fb-b3aa-4b60-d8f6-1b8c5f3e7868"
      },
      "execution_count": 24,
      "outputs": [
        {
          "output_type": "execute_result",
          "data": {
            "text/plain": [
              "1004.5028013795949"
            ]
          },
          "metadata": {},
          "execution_count": 24
        }
      ]
    },
    {
      "cell_type": "markdown",
      "source": [
        "#### Test Data RMSE"
      ],
      "metadata": {
        "id": "l2-DtsyxYTGA"
      }
    },
    {
      "cell_type": "code",
      "source": [
        "math.sqrt(mean_squared_error(y_test_HDFC,test_predict))"
      ],
      "metadata": {
        "colab": {
          "base_uri": "https://localhost:8080/"
        },
        "id": "nosHiFcGYLWC",
        "outputId": "880bd1c6-340b-487a-b3ae-8be38430e82e"
      },
      "execution_count": 25,
      "outputs": [
        {
          "output_type": "execute_result",
          "data": {
            "text/plain": [
              "2028.043958344609"
            ]
          },
          "metadata": {},
          "execution_count": 25
        }
      ]
    },
    {
      "cell_type": "markdown",
      "source": [
        "#### Calculate MAPE\n",
        "Mean Absolute Percentage Error (MAPE) is a popular metric for evaluating the accuracy of predictions in time series forecasting. MAPE measures the accuracy of a model by calculating the absolute percentage error between the predicted and actual values."
      ],
      "metadata": {
        "id": "f09qoFPx6tZm"
      }
    },
    {
      "cell_type": "code",
      "source": [
        "def calculate_mape(y_true, y_pred):\n",
        "    return np.mean(np.abs((y_true - y_pred) / y_true)) * 100"
      ],
      "metadata": {
        "id": "FsZ-8aPe6yTb"
      },
      "execution_count": 30,
      "outputs": []
    },
    {
      "cell_type": "code",
      "source": [
        "train_MAPE = calculate_mape(y_train_HDFC,train_predict)\n",
        "print(train_MAPE)"
      ],
      "metadata": {
        "id": "Eby4qz5u67L5",
        "outputId": "384fe29f-0475-4cb4-d6c4-a69e00cecb2b",
        "colab": {
          "base_uri": "https://localhost:8080/"
        }
      },
      "execution_count": 28,
      "outputs": [
        {
          "output_type": "stream",
          "name": "stdout",
          "text": [
            "496262.1970578729\n"
          ]
        }
      ]
    },
    {
      "cell_type": "code",
      "source": [
        "test_MAPE = calculate_mape(y_test_HDFC,test_predict)\n",
        "print(test_MAPE)"
      ],
      "metadata": {
        "id": "fLW34Jjr7P-W",
        "outputId": "f82921c6-51c9-43c5-eb44-39a866e8d372",
        "colab": {
          "base_uri": "https://localhost:8080/"
        }
      },
      "execution_count": 29,
      "outputs": [
        {
          "output_type": "stream",
          "name": "stdout",
          "text": [
            "316347.5192860445\n"
          ]
        }
      ]
    },
    {
      "cell_type": "markdown",
      "source": [
        "#### Predict for HDFC."
      ],
      "metadata": {
        "id": "YDaAc0CgaNgQ"
      }
    },
    {
      "cell_type": "code",
      "source": [
        "len(test_data_HDFC)"
      ],
      "metadata": {
        "colab": {
          "base_uri": "https://localhost:8080/"
        },
        "id": "ovJA1Mw_Z3cO",
        "outputId": "86bb4f15-59c2-401d-e07e-e1db4d8d379d"
      },
      "execution_count": 31,
      "outputs": [
        {
          "output_type": "execute_result",
          "data": {
            "text/plain": [
              "1775"
            ]
          },
          "metadata": {},
          "execution_count": 31
        }
      ]
    },
    {
      "cell_type": "code",
      "source": [
        "x_input=test_data_HDFC[1675:].reshape(1,-1)\n",
        "x_input.shape"
      ],
      "metadata": {
        "colab": {
          "base_uri": "https://localhost:8080/"
        },
        "id": "vlaouYMoZiEO",
        "outputId": "f7c9c548-7120-4c71-c587-f5094eaecfe3"
      },
      "execution_count": 32,
      "outputs": [
        {
          "output_type": "execute_result",
          "data": {
            "text/plain": [
              "(1, 100)"
            ]
          },
          "metadata": {},
          "execution_count": 32
        }
      ]
    },
    {
      "cell_type": "code",
      "source": [
        "temp_input=list(x_input)\n",
        "temp_input=temp_input[0].tolist()"
      ],
      "metadata": {
        "id": "MCx21RS6aLWc"
      },
      "execution_count": 33,
      "outputs": []
    },
    {
      "cell_type": "markdown",
      "source": [
        "#### Predicting for next 200 days."
      ],
      "metadata": {
        "id": "85JKv2gukPgt"
      }
    },
    {
      "cell_type": "code",
      "source": [
        "HDFC_output=[]\n",
        "n_steps=100\n",
        "i=0\n",
        "while(i <= 200):\n",
        "\n",
        "    if(len(temp_input)>100):\n",
        "        x_input=np.array(temp_input[1:])\n",
        "        x_input=x_input.reshape(1,-1)\n",
        "        x_input = x_input.reshape((1, n_steps, 1))\n",
        "        yhat = model.predict(x_input, verbose=0)\n",
        "        #print(\"{} day output {}\".format(i,yhat))\n",
        "        temp_input.extend(yhat[0].tolist())\n",
        "        temp_input=temp_input[1:]\n",
        "        #print(temp_input)\n",
        "        HDFC_output.extend(yhat.tolist())\n",
        "        i=i+1\n",
        "    else:\n",
        "        x_input = x_input.reshape((1, n_steps,1))\n",
        "        yhat = model.predict(x_input, verbose=0)\n",
        "        print(yhat[0])\n",
        "        temp_input.extend(yhat[0].tolist())\n",
        "        print(len(temp_input))\n",
        "        HDFC_output.extend(yhat.tolist())\n",
        "        i=i+1\n",
        "\n",
        "\n",
        "print(HDFC_output)"
      ],
      "metadata": {
        "colab": {
          "base_uri": "https://localhost:8080/"
        },
        "id": "OSeoWrhcXzkW",
        "outputId": "81ed92ae-56e8-4952-ca6b-ec899fcf9d59"
      },
      "execution_count": 34,
      "outputs": [
        {
          "output_type": "stream",
          "name": "stdout",
          "text": [
            "[0.9414905]\n",
            "101\n",
            "[[0.9414904713630676], [0.5664094090461731], [0.9302598834037781], [0.5755109786987305], [0.9156607985496521], [0.5811201333999634], [0.9009785652160645], [0.5852128863334656], [0.8869573473930359], [0.588413655757904], [0.8737754225730896], [0.5910006165504456], [0.8614467978477478], [0.5931296944618225], [0.8499286770820618], [0.5949011445045471], [0.8391596078872681], [0.5963859558105469], [0.8290743827819824], [0.5976361036300659], [0.8196110725402832], [0.5986909866333008], [0.8107138276100159], [0.5995815992355347], [0.8023325800895691], [0.6003329157829285], [0.7944236993789673], [0.6009648442268372], [0.7869484424591064], [0.6014940142631531], [0.7798727750778198], [0.6019346714019775], [0.7731661796569824], [0.6022986173629761], [0.7668012380599976], [0.60259610414505], [0.7607536911964417], [0.6028355360031128], [0.7550011277198792], [0.6030248403549194], [0.7495235204696655], [0.6031701564788818], [0.7443028092384338], [0.6032772660255432], [0.7393220067024231], [0.6033509969711304], [0.7345659732818604], [0.6033956408500671], [0.7300208210945129], [0.6034151315689087], [0.7256736159324646], [0.6034124493598938], [0.7215125560760498], [0.6033906936645508], [0.7175267934799194], [0.6033522486686707], [0.7137064933776855], [0.6032992601394653], [0.7100423574447632], [0.6032341122627258], [0.7065256237983704], [0.603158175945282], [0.7031484246253967], [0.6030732989311218], [0.6999030709266663], [0.6029806137084961], [0.696783185005188], [0.6028816103935242], [0.693781852722168], [0.6027770638465881], [0.6908936500549316], [0.6026679873466492], [0.688112735748291], [0.6025552749633789], [0.6854338049888611], [0.602439820766449], [0.6828517317771912], [0.6023222208023071], [0.6803625226020813], [0.6022031903266907], [0.6779614686965942], [0.6020829081535339], [0.6756446361541748], [0.6019619703292847], [0.6734082102775574], [0.6018408536911011], [0.6712488532066345], [0.6017199158668518], [0.6691626906394958], [0.6015994548797607], [0.6671469807624817], [0.6014798879623413], [0.6651984453201294], [0.6013613939285278], [0.6633143424987793], [0.6012440919876099], [0.6614920496940613], [0.6011283993721008], [0.6597288250923157], [0.6010141372680664], [0.6580225825309753], [0.6009014844894409], [0.6563711166381836], [0.6007906198501587], [0.6547719240188599], [0.6006816625595093], [0.6532230973243713], [0.6005748510360718], [0.65172278881073], [0.6004701256752014], [0.6502689123153687], [0.6003673672676086], [0.6488597989082336], [0.6002671122550964], [0.6474935412406921], [0.6001689434051514], [0.6461691856384277], [0.6000730991363525], [0.6448845863342285], [0.5999794006347656], [0.6436384916305542], [0.599888026714325], [0.6424295902252197], [0.5997990369796753], [0.6412565112113953], [0.5997123122215271], [0.640117883682251], [0.5996278524398804], [0.6390126347541809], [0.5995455384254456], [0.6379396915435791], [0.599465548992157], [0.6368976831436157], [0.5993878245353699], [0.6358857154846191], [0.5993122458457947], [0.6349028944969177], [0.5992386937141418], [0.6339480876922607], [0.5991675853729248], [0.6330201029777527], [0.5990984439849854], [0.6321185231208801], [0.599031388759613], [0.631242036819458], [0.5989665389060974], [0.6303901672363281], [0.5989037156105042], [0.6295620799064636], [0.5988427400588989], [0.6287568211555481], [0.5987836122512817], [0.6279740333557129], [0.5987265706062317], [0.627212643623352], [0.5986712574958801], [0.626471996307373], [0.5986179113388062], [0.6257516741752625], [0.5985662341117859], [0.6250508427619934], [0.5985165238380432], [0.6243689656257629], [0.5984683632850647], [0.6237054467201233], [0.5984219312667847], [0.6230599880218506], [0.5983769297599792], [0.6224316358566284], [0.5983336567878723], [0.6218200325965881], [0.5982919931411743], [0.6212247610092163], [0.5982518792152405], [0.6206451654434204], [0.5982131958007812], [0.6200810074806213], [0.5981758236885071], [0.6195317506790161], [0.5981400012969971], [0.6189969182014465], [0.5981053709983826], [0.6184760332107544], [0.5980722308158875], [0.6179688572883606], [0.5980401635169983], [0.6174748539924622], [0.5980096459388733], [0.6169934272766113], [0.5979801416397095], [0.6165248155593872], [0.5979517698287964], [0.6160682439804077], [0.5979246497154236], [0.6156234741210938], [0.5978987812995911], [0.6151899099349976], [0.597873866558075], [0.6147675514221191], [0.5978500247001648], [0.6143559813499451]]\n"
          ]
        }
      ]
    },
    {
      "cell_type": "code",
      "source": [
        "day_new=np.arange(1,101)\n",
        "day_pred=np.arange(101,302)"
      ],
      "metadata": {
        "id": "Ol42A49LcnVD"
      },
      "execution_count": 35,
      "outputs": []
    },
    {
      "cell_type": "code",
      "source": [
        "print(len(HDFC))\n",
        "print(len(HDFC_output))"
      ],
      "metadata": {
        "colab": {
          "base_uri": "https://localhost:8080/"
        },
        "id": "TBxXsfWNcrqo",
        "outputId": "2b08d5a8-68a2-401d-ae08-e3c51f8f8fab"
      },
      "execution_count": 36,
      "outputs": [
        {
          "output_type": "stream",
          "name": "stdout",
          "text": [
            "5916\n",
            "201\n"
          ]
        }
      ]
    },
    {
      "cell_type": "code",
      "source": [
        "HDFC[:5]"
      ],
      "metadata": {
        "colab": {
          "base_uri": "https://localhost:8080/"
        },
        "id": "z6wMerCbfpwD",
        "outputId": "761c6fe9-b619-41bb-970f-b2bd55b03787"
      },
      "execution_count": 37,
      "outputs": [
        {
          "output_type": "execute_result",
          "data": {
            "text/plain": [
              "array([[0.        ],\n",
              "       [0.06514338],\n",
              "       [0.00033818],\n",
              "       [0.06702053],\n",
              "       [0.00067636]])"
            ]
          },
          "metadata": {},
          "execution_count": 37
        }
      ]
    },
    {
      "cell_type": "code",
      "source": [
        "#plt.plot(day_new,scaler.inverse_transform(HDFC[5816:]))\n",
        "plt.plot(day_pred,scaler.inverse_transform(HDFC_output))"
      ],
      "metadata": {
        "colab": {
          "base_uri": "https://localhost:8080/",
          "height": 447
        },
        "id": "cqu8Zhf2df3e",
        "outputId": "261f2ea6-482f-466e-e832-b8a3d51e4e8a"
      },
      "execution_count": 38,
      "outputs": [
        {
          "output_type": "execute_result",
          "data": {
            "text/plain": [
              "[<matplotlib.lines.Line2D at 0x79daf1212da0>]"
            ]
          },
          "metadata": {},
          "execution_count": 38
        },
        {
          "output_type": "display_data",
          "data": {
            "text/plain": [
              "<Figure size 640x480 with 1 Axes>"
            ],
            "image/png": "[encoded data removed]"
          },
          "metadata": {}
        }
      ]
    },
    {
      "cell_type": "code",
      "source": [
        "HDFC_Pred = scaler.inverse_transform(HDFC_output).tolist()"
      ],
      "metadata": {
        "id": "yPSDWZY9g5aP"
      },
      "execution_count": 39,
      "outputs": []
    },
    {
      "cell_type": "markdown",
      "source": [
        "#### Now Create the Model for HUL."
      ],
      "metadata": {
        "id": "Eqmg7ehthwQd"
      }
    },
    {
      "cell_type": "code",
      "source": [
        "model_HUL=Sequential()\n",
        "model_HUL.add(LSTM(50,return_sequences=True,input_shape=(100,1)))\n",
        "model_HUL.add(LSTM(50,return_sequences=True))\n",
        "model_HUL.add(LSTM(50))\n",
        "model_HUL.add(Dense(1))\n",
        "model_HUL.compile(loss='mean_squared_error',optimizer='adam')"
      ],
      "metadata": {
        "id": "-QpNgBQ1h3DG"
      },
      "execution_count": 46,
      "outputs": []
    },
    {
      "cell_type": "code",
      "source": [
        "model_HUL.fit(X_train_HUL,y_train_HUL,validation_data=(X_test_HUL,y_test_HUL),epochs=25,batch_size=64,verbose=1)"
      ],
      "metadata": {
        "colab": {
          "base_uri": "https://localhost:8080/"
        },
        "id": "AqZ7G9m1iFAG",
        "outputId": "40f1d4b4-6cd5-48dc-d990-1ea1383fbcf8"
      },
      "execution_count": 47,
      "outputs": [
        {
          "output_type": "stream",
          "name": "stdout",
          "text": [
            "Epoch 1/25\n",
            "64/64 [==============================] - 7s 49ms/step - loss: 0.0098 - val_loss: 0.0026\n",
            "Epoch 2/25\n",
            "64/64 [==============================] - 1s 17ms/step - loss: 0.0016 - val_loss: 0.0022\n",
            "Epoch 3/25\n",
            "64/64 [==============================] - 1s 16ms/step - loss: 0.0016 - val_loss: 0.0028\n",
            "Epoch 4/25\n",
            "64/64 [==============================] - 1s 17ms/step - loss: 0.0016 - val_loss: 0.0028\n",
            "Epoch 5/25\n",
            "64/64 [==============================] - 1s 16ms/step - loss: 0.0017 - val_loss: 0.0052\n",
            "Epoch 6/25\n",
            "64/64 [==============================] - 1s 17ms/step - loss: 0.0017 - val_loss: 0.0030\n",
            "Epoch 7/25\n",
            "64/64 [==============================] - 1s 16ms/step - loss: 0.0016 - val_loss: 0.0033\n",
            "Epoch 8/25\n",
            "64/64 [==============================] - 1s 16ms/step - loss: 0.0017 - val_loss: 0.0025\n",
            "Epoch 9/25\n",
            "64/64 [==============================] - 1s 16ms/step - loss: 0.0016 - val_loss: 0.0035\n",
            "Epoch 10/25\n",
            "64/64 [==============================] - 1s 16ms/step - loss: 0.0016 - val_loss: 0.0026\n",
            "Epoch 11/25\n",
            "64/64 [==============================] - 1s 18ms/step - loss: 0.0016 - val_loss: 0.0026\n",
            "Epoch 12/25\n",
            "64/64 [==============================] - 1s 23ms/step - loss: 0.0017 - val_loss: 0.0031\n",
            "Epoch 13/25\n",
            "64/64 [==============================] - 1s 22ms/step - loss: 0.0017 - val_loss: 0.0022\n",
            "Epoch 14/25\n",
            "64/64 [==============================] - 1s 16ms/step - loss: 0.0017 - val_loss: 0.0024\n",
            "Epoch 15/25\n",
            "64/64 [==============================] - 1s 16ms/step - loss: 0.0017 - val_loss: 0.0028\n",
            "Epoch 16/25\n",
            "64/64 [==============================] - 1s 16ms/step - loss: 0.0016 - val_loss: 0.0051\n",
            "Epoch 17/25\n",
            "64/64 [==============================] - 1s 16ms/step - loss: 0.0017 - val_loss: 0.0023\n",
            "Epoch 18/25\n",
            "64/64 [==============================] - 1s 17ms/step - loss: 0.0017 - val_loss: 0.0026\n",
            "Epoch 19/25\n",
            "64/64 [==============================] - 1s 16ms/step - loss: 0.0016 - val_loss: 0.0025\n",
            "Epoch 20/25\n",
            "64/64 [==============================] - 1s 16ms/step - loss: 0.0016 - val_loss: 0.0025\n",
            "Epoch 21/25\n",
            "64/64 [==============================] - 1s 16ms/step - loss: 0.0016 - val_loss: 0.0023\n",
            "Epoch 22/25\n",
            "64/64 [==============================] - 1s 16ms/step - loss: 0.0016 - val_loss: 0.0031\n",
            "Epoch 23/25\n",
            "64/64 [==============================] - 1s 21ms/step - loss: 0.0016 - val_loss: 0.0046\n",
            "Epoch 24/25\n",
            "64/64 [==============================] - 1s 23ms/step - loss: 0.0018 - val_loss: 0.0022\n",
            "Epoch 25/25\n",
            "64/64 [==============================] - 1s 19ms/step - loss: 0.0016 - val_loss: 0.0035\n"
          ]
        },
        {
          "output_type": "execute_result",
          "data": {
            "text/plain": [
              "<keras.src.callbacks.History at 0x79daf1d252d0>"
            ]
          },
          "metadata": {},
          "execution_count": 47
        }
      ]
    },
    {
      "cell_type": "code",
      "source": [
        "### Lets Do the prediction and check performance metrics\n",
        "train_predict=model.predict(X_train_HUL)\n",
        "test_predict=model.predict(X_test_HUL)"
      ],
      "metadata": {
        "colab": {
          "base_uri": "https://localhost:8080/"
        },
        "id": "xxnCkWvwjDxQ",
        "outputId": "aee448e3-3479-4faa-aaf2-ee5ee65b4111"
      },
      "execution_count": 48,
      "outputs": [
        {
          "output_type": "stream",
          "name": "stdout",
          "text": [
            "127/127 [==============================] - 1s 6ms/step\n",
            "53/53 [==============================] - 0s 6ms/step\n"
          ]
        }
      ]
    },
    {
      "cell_type": "code",
      "source": [
        "##Transformback to original form\n",
        "train_predict=scaler.inverse_transform(train_predict)\n",
        "test_predict=scaler.inverse_transform(test_predict)"
      ],
      "metadata": {
        "id": "niKnxTv4jKcY"
      },
      "execution_count": 49,
      "outputs": []
    },
    {
      "cell_type": "code",
      "source": [
        "### Calculate RMSE performance metrics\n",
        "math.sqrt(mean_squared_error(y_train_HUL,train_predict))"
      ],
      "metadata": {
        "colab": {
          "base_uri": "https://localhost:8080/"
        },
        "id": "YEUyjC_SjPGC",
        "outputId": "53a2b9cc-64dc-44ab-9854-a96a1ebf28ca"
      },
      "execution_count": 50,
      "outputs": [
        {
          "output_type": "execute_result",
          "data": {
            "text/plain": [
              "1145.875511854515"
            ]
          },
          "metadata": {},
          "execution_count": 50
        }
      ]
    },
    {
      "cell_type": "code",
      "source": [
        "### Test Data RMSE\n",
        "math.sqrt(mean_squared_error(y_test_HUL,test_predict))"
      ],
      "metadata": {
        "colab": {
          "base_uri": "https://localhost:8080/"
        },
        "id": "gTtjsO6ZjXF-",
        "outputId": "97d7f2a1-cdea-4fd8-f7d9-859e80b50035"
      },
      "execution_count": 51,
      "outputs": [
        {
          "output_type": "execute_result",
          "data": {
            "text/plain": [
              "2276.8057636391577"
            ]
          },
          "metadata": {},
          "execution_count": 51
        }
      ]
    },
    {
      "cell_type": "code",
      "source": [
        "train_MAPE = calculate_mape(y_train_HUL,train_predict)\n",
        "print(train_MAPE)"
      ],
      "metadata": {
        "id": "re61MwuJ-fHt",
        "outputId": "445c1993-8f83-4a92-9f10-47d1fda58cfd",
        "colab": {
          "base_uri": "https://localhost:8080/"
        }
      },
      "execution_count": 52,
      "outputs": [
        {
          "output_type": "stream",
          "name": "stdout",
          "text": [
            "482911.47316886275\n"
          ]
        }
      ]
    },
    {
      "cell_type": "code",
      "source": [
        "test_MAPE = calculate_mape(y_test_HUL,test_predict)\n",
        "print(test_MAPE)"
      ],
      "metadata": {
        "id": "VbXyDwKS-and",
        "outputId": "9ddfcf72-b9bd-4624-8bd7-8a7580845161",
        "colab": {
          "base_uri": "https://localhost:8080/"
        }
      },
      "execution_count": 53,
      "outputs": [
        {
          "output_type": "stream",
          "name": "stdout",
          "text": [
            "277998.38937992026\n"
          ]
        }
      ]
    },
    {
      "cell_type": "code",
      "source": [
        "len(test_data_HUL)"
      ],
      "metadata": {
        "colab": {
          "base_uri": "https://localhost:8080/"
        },
        "id": "WbXp6FFgjdJv",
        "outputId": "5da82e24-a303-44db-b83a-f428e2690cdc"
      },
      "execution_count": 54,
      "outputs": [
        {
          "output_type": "execute_result",
          "data": {
            "text/plain": [
              "1775"
            ]
          },
          "metadata": {},
          "execution_count": 54
        }
      ]
    },
    {
      "cell_type": "code",
      "source": [
        "x_input=test_data_HUL[1675:].reshape(1,-1)\n",
        "x_input.shape"
      ],
      "metadata": {
        "colab": {
          "base_uri": "https://localhost:8080/"
        },
        "id": "JdCGVmqtjoWp",
        "outputId": "e35d8fc0-5ac0-4698-84f4-38542842ad91"
      },
      "execution_count": 55,
      "outputs": [
        {
          "output_type": "execute_result",
          "data": {
            "text/plain": [
              "(1, 100)"
            ]
          },
          "metadata": {},
          "execution_count": 55
        }
      ]
    },
    {
      "cell_type": "code",
      "source": [
        "temp_input=list(x_input)\n",
        "temp_input=temp_input[0].tolist()"
      ],
      "metadata": {
        "id": "k11kMulPjujI"
      },
      "execution_count": 56,
      "outputs": []
    },
    {
      "cell_type": "code",
      "source": [
        "# demonstrate prediction for next 200 days\n",
        "\n",
        "HUL_output=[]\n",
        "n_steps=100\n",
        "i=0\n",
        "while(i<= 200):\n",
        "\n",
        "    if(len(temp_input)>100):\n",
        "        #print(temp_input)\n",
        "        x_input=np.array(temp_input[1:])\n",
        "        #print(\"{} day input {}\".format(i,x_input))\n",
        "        x_input=x_input.reshape(1,-1)\n",
        "        x_input = x_input.reshape((1, n_steps, 1))\n",
        "        #print(x_input)\n",
        "        yhat = model.predict(x_input, verbose=0)\n",
        "        #print(\"{} day output {}\".format(i,yhat))\n",
        "        temp_input.extend(yhat[0].tolist())\n",
        "        temp_input=temp_input[1:]\n",
        "        #print(temp_input)\n",
        "        HUL_output.extend(yhat.tolist())\n",
        "        i=i+1\n",
        "    else:\n",
        "        x_input = x_input.reshape((1, n_steps,1))\n",
        "        yhat = model.predict(x_input, verbose=0)\n",
        "        print(yhat[0])\n",
        "        temp_input.extend(yhat[0].tolist())\n",
        "        print(len(temp_input))\n",
        "        HUL_output.extend(yhat.tolist())\n",
        "        i=i+1\n",
        "\n",
        "\n",
        "print(HUL_output)"
      ],
      "metadata": {
        "colab": {
          "base_uri": "https://localhost:8080/"
        },
        "id": "d8qkDyRsj0Xq",
        "outputId": "23c417e1-cbc6-4935-c66b-ae332c3f2a43"
      },
      "execution_count": 57,
      "outputs": [
        {
          "output_type": "stream",
          "name": "stdout",
          "text": [
            "[0.8816977]\n",
            "101\n",
            "[[0.8816977143287659], [0.8267337679862976], [0.8805052638053894], [0.8257988691329956], [0.8696926832199097], [0.8179668188095093], [0.8565307259559631], [0.8085416555404663], [0.8432875871658325], [0.7989046573638916], [0.8306409120559692], [0.7895355224609375], [0.8187901973724365], [0.7806137800216675], [0.8077671527862549], [0.7722001075744629], [0.7975385785102844], [0.7643002867698669], [0.7880464196205139], [0.7568945288658142], [0.7792256474494934], [0.7499520182609558], [0.7710133790969849], [0.7434378266334534], [0.7633505463600159], [0.7373183965682983], [0.7561850547790527], [0.731561005115509], [0.7494706511497498], [0.7261366248130798], [0.7431662678718567], [0.7210185527801514], [0.7372363805770874], [0.7161827087402344], [0.7316491007804871], [0.7116075158119202], [0.7263765335083008], [0.7072734832763672], [0.7213934063911438], [0.7031627297401428], [0.7166774272918701], [0.6992596983909607], [0.7122081518173218], [0.6955500245094299], [0.7079675793647766], [0.6920199990272522], [0.7039394974708557], [0.6886577010154724], [0.7001089453697205], [0.6854523420333862], [0.6964622735977173], [0.6823940873146057], [0.692987322807312], [0.6794732809066772], [0.6896730065345764], [0.6766816973686218], [0.6865090131759644], [0.6740115880966187], [0.6834860444068909], [0.671455979347229], [0.6805953979492188], [0.6690082550048828], [0.6778295040130615], [0.6666620373725891], [0.675180971622467], [0.6644119620323181], [0.672642707824707], [0.6622527241706848], [0.6702091097831726], [0.660179615020752], [0.6678741574287415], [0.6581879258155823], [0.6656325459480286], [0.6562737226486206], [0.6634793877601624], [0.6544328927993774], [0.6614100933074951], [0.6526617407798767], [0.6594204306602478], [0.6509569883346558], [0.6575064063072205], [0.6493155360221863], [0.6556641459465027], [0.6477341651916504], [0.6538903117179871], [0.646210253238678], [0.6521816849708557], [0.6447411179542542], [0.6505348682403564], [0.6433241963386536], [0.6489473581314087], [0.6419573426246643], [0.6474162936210632], [0.6406381726264954], [0.6459389925003052], [0.6393648386001587], [0.6445133686065674], [0.6381351351737976], [0.6431370973587036], [0.6369470953941345], [0.6418079137802124], [0.63579922914505], [0.6405239105224609], [0.6346897482872009], [0.639283299446106], [0.6336171627044678], [0.6380838751792908], [0.632580041885376], [0.6369245648384094], [0.6315768361091614], [0.6358031630516052], [0.6306062340736389], [0.6347185969352722], [0.6296668648719788], [0.6336690187454224], [0.628757894039154], [0.6326532363891602], [0.6278775930404663], [0.6316699981689453], [0.6270253658294678], [0.630717933177948], [0.6262000203132629], [0.6297959089279175], [0.6254004240036011], [0.628902792930603], [0.6246257424354553], [0.6280375719070435], [0.623875081539154], [0.6271989345550537], [0.62314772605896], [0.6263862252235413], [0.6224424242973328], [0.6255983114242554], [0.621758759021759], [0.6248345375061035], [0.6210958361625671], [0.6240938901901245], [0.6204527616500854], [0.6233755946159363], [0.6198291778564453], [0.622678816318512], [0.6192241311073303], [0.6220027208328247], [0.618637204170227], [0.6213467121124268], [0.6180676221847534], [0.6207102537155151], [0.6175147891044617], [0.6200923919677734], [0.6169783473014832], [0.6194925904273987], [0.6164575219154358], [0.6189103722572327], [0.6159521341323853], [0.6183449625968933], [0.6154611110687256], [0.617796003818512], [0.6149845719337463], [0.6172626614570618], [0.6145217418670654], [0.6167449355125427], [0.6140720248222351], [0.6162419319152832], [0.6136351823806763], [0.6157533526420593], [0.613210916519165], [0.6152785420417786], [0.612798810005188], [0.6148171424865723], [0.6123983263969421], [0.6143687963485718], [0.6120091676712036], [0.6139330863952637], [0.6116310358047485], [0.6135095357894897], [0.6112634539604187], [0.6130977869033813], [0.6109064221382141], [0.6126975417137146], [0.6105592250823975], [0.6123083233833313], [0.6102217435836792], [0.6119300127029419], [0.6098936200141907], [0.6115621328353882], [0.6095746159553528], [0.6112044453620911], [0.6092644929885864], [0.6108564734458923], [0.6089629530906677], [0.6105179190635681], [0.6086698174476624], [0.6101887822151184], [0.6083846092224121], [0.6098687648773193], [0.608107328414917], [0.6095572710037231], [0.6078374981880188], [0.6092541217803955], [0.6075752377510071], [0.6089593768119812]]\n"
          ]
        }
      ]
    },
    {
      "cell_type": "code",
      "source": [
        "day_new=np.arange(1,101)\n",
        "day_pred=np.arange(101,302)"
      ],
      "metadata": {
        "id": "ewcxIvKrkVTm"
      },
      "execution_count": 58,
      "outputs": []
    },
    {
      "cell_type": "code",
      "source": [
        "print(len(HUL))\n",
        "print(len(HUL_output))"
      ],
      "metadata": {
        "colab": {
          "base_uri": "https://localhost:8080/"
        },
        "id": "Eg87xur8kf_o",
        "outputId": "e69a7961-970e-4773-e38e-375d7c856201"
      },
      "execution_count": 59,
      "outputs": [
        {
          "output_type": "stream",
          "name": "stdout",
          "text": [
            "5916\n",
            "201\n"
          ]
        }
      ]
    },
    {
      "cell_type": "code",
      "source": [
        "#plt.plot(day_new,scaler.inverse_transform(HUL[5816:]))\n",
        "plt.plot(day_pred,scaler.inverse_transform(HUL_output))"
      ],
      "metadata": {
        "colab": {
          "base_uri": "https://localhost:8080/",
          "height": 447
        },
        "id": "F-Ksgu1NkuV0",
        "outputId": "39d08826-1470-4ed3-d370-8419f5607971"
      },
      "execution_count": 60,
      "outputs": [
        {
          "output_type": "execute_result",
          "data": {
            "text/plain": [
              "[<matplotlib.lines.Line2D at 0x79dad622e950>]"
            ]
          },
          "metadata": {},
          "execution_count": 60
        },
        {
          "output_type": "display_data",
          "data": {
            "text/plain": [
              "<Figure size 640x480 with 1 Axes>"
            ],
            "image/png": "[encoded data removed]"
          },
          "metadata": {}
        }
      ]
    },
    {
      "cell_type": "code",
      "source": [
        "HUL_Pred = scaler.inverse_transform(HUL_output).tolist()"
      ],
      "metadata": {
        "id": "rZtg_foelCCK"
      },
      "execution_count": 61,
      "outputs": []
    },
    {
      "cell_type": "code",
      "source": [
        "Preds = {\n",
        "    'HDFC Bank': HDFC_Pred,\n",
        "    'Hindustan Uniliver': HUL_Pred\n",
        "}\n",
        "Pred_df = pd.DataFrame(Preds)"
      ],
      "metadata": {
        "id": "Xli4JM8hlVLR"
      },
      "execution_count": 62,
      "outputs": []
    },
    {
      "cell_type": "markdown",
      "source": [
        "## Write the Prediction file to GDrive"
      ],
      "metadata": {
        "id": "RF4IceVjmoXT"
      }
    },
    {
      "cell_type": "code",
      "source": [
        "from google.colab import drive\n",
        "# Mount Google Drive\n",
        "drive.mount('/content/drive')\n",
        "\n",
        "# Define the output file path in Google Drive\n",
        "output_file_path = '/content/drive/My Drive/Stock_Prediction.csv'\n",
        "\n",
        "# Write the DataFrame to a CSV file in Google Drive\n",
        "Pred_df.to_csv(output_file_path, index=False)"
      ],
      "metadata": {
        "colab": {
          "base_uri": "https://localhost:8080/"
        },
        "id": "08tfcWrvrilF",
        "outputId": "7a515d08-06a0-4f85-e4e7-03ba10665403"
      },
      "execution_count": 63,
      "outputs": [
        {
          "output_type": "stream",
          "name": "stdout",
          "text": [
            "Mounted at /content/drive\n"
          ]
        }
      ]
    }
  ]
}