{
  "nbformat": 4,
  "nbformat_minor": 0,
  "metadata": {
    "colab": {
      "provenance": [],
      "gpuType": "T4",
      "authorship_tag": "ABX9TyPIW6pR1TO9uwTYmyvJbt7z",
      "include_colab_link": true
    },
    "kernelspec": {
      "name": "python3",
      "display_name": "Python 3"
    },
    "language_info": {
      "name": "python"
    },
    "accelerator": "GPU"
  },
  "cells": [
    {
      "cell_type": "markdown",
      "metadata": {
        "id": "view-in-github",
        "colab_type": "text"
      },
      "source": [
        "<a href=\"https://colab.research.google.com/github/bpushan/AMPBA_G18/blob/FP2/LSTM_Stock_Prediction.ipynb\" target=\"_parent\"><img src=\"https://colab.research.google.com/assets/colab-badge.svg\" alt=\"Open In Colab\"/></a>"
      ]
    },
    {
      "cell_type": "markdown",
      "source": [
        "## Implementing a LSTM model for stock price prediction."
      ],
      "metadata": {
        "id": "3rPOaVrxIw8k"
      }
    },
    {
      "cell_type": "code",
      "execution_count": 1,
      "metadata": {
        "id": "lPKVeh77E0Qk"
      },
      "outputs": [],
      "source": [
        "import pandas as pd\n",
        "import numpy as np"
      ]
    },
    {
      "cell_type": "code",
      "source": [
        "from sklearn.preprocessing import MinMaxScaler"
      ],
      "metadata": {
        "id": "TFfOdWiJLKaN"
      },
      "execution_count": 2,
      "outputs": []
    },
    {
      "cell_type": "code",
      "source": [
        "from tensorflow.keras.models import Sequential\n",
        "from tensorflow.keras.layers import Dense\n",
        "from tensorflow.keras.layers import LSTM"
      ],
      "metadata": {
        "id": "b5NNKKRDTiPl"
      },
      "execution_count": 3,
      "outputs": []
    },
    {
      "cell_type": "code",
      "source": [
        "import math\n",
        "from sklearn.metrics import mean_squared_error"
      ],
      "metadata": {
        "id": "lV8QwqHoVK2r"
      },
      "execution_count": 4,
      "outputs": []
    },
    {
      "cell_type": "code",
      "source": [
        "import matplotlib.pyplot as plt"
      ],
      "metadata": {
        "id": "jvtIAxSYdnPn"
      },
      "execution_count": 49,
      "outputs": []
    },
    {
      "cell_type": "markdown",
      "source": [
        "#### URL of the CSV file on GitHub"
      ],
      "metadata": {
        "id": "pQlKnMKKIm4m"
      }
    },
    {
      "cell_type": "code",
      "source": [
        "url = 'https://raw.githubusercontent.com/bpushan/AMPBA_G18/FP2/stock_prc_data.csv'"
      ],
      "metadata": {
        "id": "dqqFCCouFxH7"
      },
      "execution_count": 5,
      "outputs": []
    },
    {
      "cell_type": "code",
      "source": [
        "# Read the CSV file into a DataFrame\n",
        "stock_prc_data = pd.read_csv(url)\n",
        "\n",
        "# Display the DataFrame\n",
        "print(stock_prc_data.head())"
      ],
      "metadata": {
        "colab": {
          "base_uri": "https://localhost:8080/"
        },
        "id": "TbduOwUzGU3O",
        "outputId": "615c1ec8-9e9f-47d6-b2ad-addebdd529ca"
      },
      "execution_count": 6,
      "outputs": [
        {
          "output_type": "stream",
          "name": "stdout",
          "text": [
            "                        Date   HDFC_Open  HDFC_Close    HUL_Open   HUL_Close\n",
            "0  2012-01-02 00:00:00+05:30  193.554086  192.628967  329.679886  325.035370\n",
            "1  2012-01-03 00:00:00+05:30  194.682296  198.179718  327.337367  329.518280\n",
            "2  2012-01-04 00:00:00+05:30  199.420686  200.052475  329.235567  319.421509\n",
            "3  2012-01-05 00:00:00+05:30  200.368400  200.210449  318.977271  317.725281\n",
            "4  2012-01-06 00:00:00+05:30  199.014582  204.565323  318.048390  320.511993\n"
          ]
        }
      ]
    },
    {
      "cell_type": "markdown",
      "source": [
        "#### Getting the prices into dataframes by stocks."
      ],
      "metadata": {
        "id": "ogjq1qugI7BI"
      }
    },
    {
      "cell_type": "code",
      "source": [
        "HUL = stock_prc_data[['HUL_Close']].reset_index()\n",
        "# Rename specific columns\n",
        "HUL.rename(columns={\n",
        "    'HUL_Close': 'Close'\n",
        "}, inplace=True)\n",
        "\n",
        "HUL[:2]"
      ],
      "metadata": {
        "colab": {
          "base_uri": "https://localhost:8080/",
          "height": 112
        },
        "id": "2y2nQV3UJDNh",
        "outputId": "b205c34f-15ce-4e79-d467-ca77dd98c82a"
      },
      "execution_count": 7,
      "outputs": [
        {
          "output_type": "execute_result",
          "data": {
            "text/plain": [
              "   index      Close\n",
              "0      0  325.03537\n",
              "1      1  329.51828"
            ],
            "text/html": [
              "\n",
              "  <div id=\"df-ae5c8011-f7dc-4c42-94b3-2cb217040254\" class=\"colab-df-container\">\n",
              "    <div>\n",
              "<style scoped>\n",
              "    .dataframe tbody tr th:only-of-type {\n",
              "        vertical-align: middle;\n",
              "    }\n",
              "\n",
              "    .dataframe tbody tr th {\n",
              "        vertical-align: top;\n",
              "    }\n",
              "\n",
              "    .dataframe thead th {\n",
              "        text-align: right;\n",
              "    }\n",
              "</style>\n",
              "<table border=\"1\" class=\"dataframe\">\n",
              "  <thead>\n",
              "    <tr style=\"text-align: right;\">\n",
              "      <th></th>\n",
              "      <th>index</th>\n",
              "      <th>Close</th>\n",
              "    </tr>\n",
              "  </thead>\n",
              "  <tbody>\n",
              "    <tr>\n",
              "      <th>0</th>\n",
              "      <td>0</td>\n",
              "      <td>325.03537</td>\n",
              "    </tr>\n",
              "    <tr>\n",
              "      <th>1</th>\n",
              "      <td>1</td>\n",
              "      <td>329.51828</td>\n",
              "    </tr>\n",
              "  </tbody>\n",
              "</table>\n",
              "</div>\n",
              "    <div class=\"colab-df-buttons\">\n",
              "\n",
              "  <div class=\"colab-df-container\">\n",
              "    <button class=\"colab-df-convert\" onclick=\"convertToInteractive('df-ae5c8011-f7dc-4c42-94b3-2cb217040254')\"\n",
              "            title=\"Convert this dataframe to an interactive table.\"\n",
              "            style=\"display:none;\">\n",
              "\n",
              "  <svg xmlns=\"http://www.w3.org/2000/svg\" height=\"24px\" viewBox=\"0 -960 960 960\">\n",
              "    <path d=\"M120-120v-720h720v720H120Zm60-500h600v-160H180v160Zm220 220h160v-160H400v160Zm0 220h160v-160H400v160ZM180-400h160v-160H180v160Zm440 0h160v-160H620v160ZM180-180h160v-160H180v160Zm440 0h160v-160H620v160Z\"/>\n",
              "  </svg>\n",
              "    </button>\n",
              "\n",
              "  <style>\n",
              "    .colab-df-container {\n",
              "      display:flex;\n",
              "      gap: 12px;\n",
              "    }\n",
              "\n",
              "    .colab-df-convert {\n",
              "      background-color: #E8F0FE;\n",
              "      border: none;\n",
              "      border-radius: 50%;\n",
              "      cursor: pointer;\n",
              "      display: none;\n",
              "      fill: #1967D2;\n",
              "      height: 32px;\n",
              "      padding: 0 0 0 0;\n",
              "      width: 32px;\n",
              "    }\n",
              "\n",
              "    .colab-df-convert:hover {\n",
              "      background-color: #E2EBFA;\n",
              "      box-shadow: 0px 1px 2px rgba(60, 64, 67, 0.3), 0px 1px 3px 1px rgba(60, 64, 67, 0.15);\n",
              "      fill: #174EA6;\n",
              "    }\n",
              "\n",
              "    .colab-df-buttons div {\n",
              "      margin-bottom: 4px;\n",
              "    }\n",
              "\n",
              "    [theme=dark] .colab-df-convert {\n",
              "      background-color: #3B4455;\n",
              "      fill: #D2E3FC;\n",
              "    }\n",
              "\n",
              "    [theme=dark] .colab-df-convert:hover {\n",
              "      background-color: #434B5C;\n",
              "      box-shadow: 0px 1px 3px 1px rgba(0, 0, 0, 0.15);\n",
              "      filter: drop-shadow(0px 1px 2px rgba(0, 0, 0, 0.3));\n",
              "      fill: #FFFFFF;\n",
              "    }\n",
              "  </style>\n",
              "\n",
              "    <script>\n",
              "      const buttonEl =\n",
              "        document.querySelector('#df-ae5c8011-f7dc-4c42-94b3-2cb217040254 button.colab-df-convert');\n",
              "      buttonEl.style.display =\n",
              "        google.colab.kernel.accessAllowed ? 'block' : 'none';\n",
              "\n",
              "      async function convertToInteractive(key) {\n",
              "        const element = document.querySelector('#df-ae5c8011-f7dc-4c42-94b3-2cb217040254');\n",
              "        const dataTable =\n",
              "          await google.colab.kernel.invokeFunction('convertToInteractive',\n",
              "                                                    [key], {});\n",
              "        if (!dataTable) return;\n",
              "\n",
              "        const docLinkHtml = 'Like what you see? Visit the ' +\n",
              "          '<a target=\"_blank\" href=https://colab.research.google.com/notebooks/data_table.ipynb>data table notebook</a>'\n",
              "          + ' to learn more about interactive tables.';\n",
              "        element.innerHTML = '';\n",
              "        dataTable['output_type'] = 'display_data';\n",
              "        await google.colab.output.renderOutput(dataTable, element);\n",
              "        const docLink = document.createElement('div');\n",
              "        docLink.innerHTML = docLinkHtml;\n",
              "        element.appendChild(docLink);\n",
              "      }\n",
              "    </script>\n",
              "  </div>\n",
              "\n",
              "\n",
              "<div id=\"df-acd7da25-54d0-40f8-b87b-67aee2818719\">\n",
              "  <button class=\"colab-df-quickchart\" onclick=\"quickchart('df-acd7da25-54d0-40f8-b87b-67aee2818719')\"\n",
              "            title=\"Suggest charts\"\n",
              "            style=\"display:none;\">\n",
              "\n",
              "<svg xmlns=\"http://www.w3.org/2000/svg\" height=\"24px\"viewBox=\"0 0 24 24\"\n",
              "     width=\"24px\">\n",
              "    <g>\n",
              "        <path d=\"M19 3H5c-1.1 0-2 .9-2 2v14c0 1.1.9 2 2 2h14c1.1 0 2-.9 2-2V5c0-1.1-.9-2-2-2zM9 17H7v-7h2v7zm4 0h-2V7h2v10zm4 0h-2v-4h2v4z\"/>\n",
              "    </g>\n",
              "</svg>\n",
              "  </button>\n",
              "\n",
              "<style>\n",
              "  .colab-df-quickchart {\n",
              "      --bg-color: #E8F0FE;\n",
              "      --fill-color: #1967D2;\n",
              "      --hover-bg-color: #E2EBFA;\n",
              "      --hover-fill-color: #174EA6;\n",
              "      --disabled-fill-color: #AAA;\n",
              "      --disabled-bg-color: #DDD;\n",
              "  }\n",
              "\n",
              "  [theme=dark] .colab-df-quickchart {\n",
              "      --bg-color: #3B4455;\n",
              "      --fill-color: #D2E3FC;\n",
              "      --hover-bg-color: #434B5C;\n",
              "      --hover-fill-color: #FFFFFF;\n",
              "      --disabled-bg-color: #3B4455;\n",
              "      --disabled-fill-color: #666;\n",
              "  }\n",
              "\n",
              "  .colab-df-quickchart {\n",
              "    background-color: var(--bg-color);\n",
              "    border: none;\n",
              "    border-radius: 50%;\n",
              "    cursor: pointer;\n",
              "    display: none;\n",
              "    fill: var(--fill-color);\n",
              "    height: 32px;\n",
              "    padding: 0;\n",
              "    width: 32px;\n",
              "  }\n",
              "\n",
              "  .colab-df-quickchart:hover {\n",
              "    background-color: var(--hover-bg-color);\n",
              "    box-shadow: 0 1px 2px rgba(60, 64, 67, 0.3), 0 1px 3px 1px rgba(60, 64, 67, 0.15);\n",
              "    fill: var(--button-hover-fill-color);\n",
              "  }\n",
              "\n",
              "  .colab-df-quickchart-complete:disabled,\n",
              "  .colab-df-quickchart-complete:disabled:hover {\n",
              "    background-color: var(--disabled-bg-color);\n",
              "    fill: var(--disabled-fill-color);\n",
              "    box-shadow: none;\n",
              "  }\n",
              "\n",
              "  .colab-df-spinner {\n",
              "    border: 2px solid var(--fill-color);\n",
              "    border-color: transparent;\n",
              "    border-bottom-color: var(--fill-color);\n",
              "    animation:\n",
              "      spin 1s steps(1) infinite;\n",
              "  }\n",
              "\n",
              "  @keyframes spin {\n",
              "    0% {\n",
              "      border-color: transparent;\n",
              "      border-bottom-color: var(--fill-color);\n",
              "      border-left-color: var(--fill-color);\n",
              "    }\n",
              "    20% {\n",
              "      border-color: transparent;\n",
              "      border-left-color: var(--fill-color);\n",
              "      border-top-color: var(--fill-color);\n",
              "    }\n",
              "    30% {\n",
              "      border-color: transparent;\n",
              "      border-left-color: var(--fill-color);\n",
              "      border-top-color: var(--fill-color);\n",
              "      border-right-color: var(--fill-color);\n",
              "    }\n",
              "    40% {\n",
              "      border-color: transparent;\n",
              "      border-right-color: var(--fill-color);\n",
              "      border-top-color: var(--fill-color);\n",
              "    }\n",
              "    60% {\n",
              "      border-color: transparent;\n",
              "      border-right-color: var(--fill-color);\n",
              "    }\n",
              "    80% {\n",
              "      border-color: transparent;\n",
              "      border-right-color: var(--fill-color);\n",
              "      border-bottom-color: var(--fill-color);\n",
              "    }\n",
              "    90% {\n",
              "      border-color: transparent;\n",
              "      border-bottom-color: var(--fill-color);\n",
              "    }\n",
              "  }\n",
              "</style>\n",
              "\n",
              "  <script>\n",
              "    async function quickchart(key) {\n",
              "      const quickchartButtonEl =\n",
              "        document.querySelector('#' + key + ' button');\n",
              "      quickchartButtonEl.disabled = true;  // To prevent multiple clicks.\n",
              "      quickchartButtonEl.classList.add('colab-df-spinner');\n",
              "      try {\n",
              "        const charts = await google.colab.kernel.invokeFunction(\n",
              "            'suggestCharts', [key], {});\n",
              "      } catch (error) {\n",
              "        console.error('Error during call to suggestCharts:', error);\n",
              "      }\n",
              "      quickchartButtonEl.classList.remove('colab-df-spinner');\n",
              "      quickchartButtonEl.classList.add('colab-df-quickchart-complete');\n",
              "    }\n",
              "    (() => {\n",
              "      let quickchartButtonEl =\n",
              "        document.querySelector('#df-acd7da25-54d0-40f8-b87b-67aee2818719 button');\n",
              "      quickchartButtonEl.style.display =\n",
              "        google.colab.kernel.accessAllowed ? 'block' : 'none';\n",
              "    })();\n",
              "  </script>\n",
              "</div>\n",
              "\n",
              "    </div>\n",
              "  </div>\n"
            ],
            "application/vnd.google.colaboratory.intrinsic+json": {
              "type": "dataframe",
              "summary": "{\n  \"name\": \"HUL[:2]\",\n  \"rows\": 2,\n  \"fields\": [\n    {\n      \"column\": \"index\",\n      \"properties\": {\n        \"dtype\": \"number\",\n        \"std\": 0,\n        \"min\": 0,\n        \"max\": 1,\n        \"num_unique_values\": 2,\n        \"samples\": [\n          1,\n          0\n        ],\n        \"semantic_type\": \"\",\n        \"description\": \"\"\n      }\n    },\n    {\n      \"column\": \"Close\",\n      \"properties\": {\n        \"dtype\": \"number\",\n        \"std\": 3.1698961709344204,\n        \"min\": 325.0353698730469,\n        \"max\": 329.5182800292969,\n        \"num_unique_values\": 2,\n        \"samples\": [\n          329.5182800292969,\n          325.0353698730469\n        ],\n        \"semantic_type\": \"\",\n        \"description\": \"\"\n      }\n    }\n  ]\n}"
            }
          },
          "metadata": {},
          "execution_count": 7
        }
      ]
    },
    {
      "cell_type": "code",
      "source": [
        "HDFC = stock_prc_data[['HDFC_Close']].reset_index()\n",
        "# Rename specific columns\n",
        "HDFC.rename(columns={\n",
        "    'HDFC_Close': 'Close'\n",
        "}, inplace=True)\n",
        "\n",
        "HDFC[:2]"
      ],
      "metadata": {
        "colab": {
          "base_uri": "https://localhost:8080/",
          "height": 112
        },
        "id": "30pK1nQxJO6f",
        "outputId": "54e161fb-7390-4e87-a084-ca181f743a4d"
      },
      "execution_count": 8,
      "outputs": [
        {
          "output_type": "execute_result",
          "data": {
            "text/plain": [
              "   index       Close\n",
              "0      0  192.628967\n",
              "1      1  198.179718"
            ],
            "text/html": [
              "\n",
              "  <div id=\"df-2b3bd034-cddf-4889-aa79-c765c8790286\" class=\"colab-df-container\">\n",
              "    <div>\n",
              "<style scoped>\n",
              "    .dataframe tbody tr th:only-of-type {\n",
              "        vertical-align: middle;\n",
              "    }\n",
              "\n",
              "    .dataframe tbody tr th {\n",
              "        vertical-align: top;\n",
              "    }\n",
              "\n",
              "    .dataframe thead th {\n",
              "        text-align: right;\n",
              "    }\n",
              "</style>\n",
              "<table border=\"1\" class=\"dataframe\">\n",
              "  <thead>\n",
              "    <tr style=\"text-align: right;\">\n",
              "      <th></th>\n",
              "      <th>index</th>\n",
              "      <th>Close</th>\n",
              "    </tr>\n",
              "  </thead>\n",
              "  <tbody>\n",
              "    <tr>\n",
              "      <th>0</th>\n",
              "      <td>0</td>\n",
              "      <td>192.628967</td>\n",
              "    </tr>\n",
              "    <tr>\n",
              "      <th>1</th>\n",
              "      <td>1</td>\n",
              "      <td>198.179718</td>\n",
              "    </tr>\n",
              "  </tbody>\n",
              "</table>\n",
              "</div>\n",
              "    <div class=\"colab-df-buttons\">\n",
              "\n",
              "  <div class=\"colab-df-container\">\n",
              "    <button class=\"colab-df-convert\" onclick=\"convertToInteractive('df-2b3bd034-cddf-4889-aa79-c765c8790286')\"\n",
              "            title=\"Convert this dataframe to an interactive table.\"\n",
              "            style=\"display:none;\">\n",
              "\n",
              "  <svg xmlns=\"http://www.w3.org/2000/svg\" height=\"24px\" viewBox=\"0 -960 960 960\">\n",
              "    <path d=\"M120-120v-720h720v720H120Zm60-500h600v-160H180v160Zm220 220h160v-160H400v160Zm0 220h160v-160H400v160ZM180-400h160v-160H180v160Zm440 0h160v-160H620v160ZM180-180h160v-160H180v160Zm440 0h160v-160H620v160Z\"/>\n",
              "  </svg>\n",
              "    </button>\n",
              "\n",
              "  <style>\n",
              "    .colab-df-container {\n",
              "      display:flex;\n",
              "      gap: 12px;\n",
              "    }\n",
              "\n",
              "    .colab-df-convert {\n",
              "      background-color: #E8F0FE;\n",
              "      border: none;\n",
              "      border-radius: 50%;\n",
              "      cursor: pointer;\n",
              "      display: none;\n",
              "      fill: #1967D2;\n",
              "      height: 32px;\n",
              "      padding: 0 0 0 0;\n",
              "      width: 32px;\n",
              "    }\n",
              "\n",
              "    .colab-df-convert:hover {\n",
              "      background-color: #E2EBFA;\n",
              "      box-shadow: 0px 1px 2px rgba(60, 64, 67, 0.3), 0px 1px 3px 1px rgba(60, 64, 67, 0.15);\n",
              "      fill: #174EA6;\n",
              "    }\n",
              "\n",
              "    .colab-df-buttons div {\n",
              "      margin-bottom: 4px;\n",
              "    }\n",
              "\n",
              "    [theme=dark] .colab-df-convert {\n",
              "      background-color: #3B4455;\n",
              "      fill: #D2E3FC;\n",
              "    }\n",
              "\n",
              "    [theme=dark] .colab-df-convert:hover {\n",
              "      background-color: #434B5C;\n",
              "      box-shadow: 0px 1px 3px 1px rgba(0, 0, 0, 0.15);\n",
              "      filter: drop-shadow(0px 1px 2px rgba(0, 0, 0, 0.3));\n",
              "      fill: #FFFFFF;\n",
              "    }\n",
              "  </style>\n",
              "\n",
              "    <script>\n",
              "      const buttonEl =\n",
              "        document.querySelector('#df-2b3bd034-cddf-4889-aa79-c765c8790286 button.colab-df-convert');\n",
              "      buttonEl.style.display =\n",
              "        google.colab.kernel.accessAllowed ? 'block' : 'none';\n",
              "\n",
              "      async function convertToInteractive(key) {\n",
              "        const element = document.querySelector('#df-2b3bd034-cddf-4889-aa79-c765c8790286');\n",
              "        const dataTable =\n",
              "          await google.colab.kernel.invokeFunction('convertToInteractive',\n",
              "                                                    [key], {});\n",
              "        if (!dataTable) return;\n",
              "\n",
              "        const docLinkHtml = 'Like what you see? Visit the ' +\n",
              "          '<a target=\"_blank\" href=https://colab.research.google.com/notebooks/data_table.ipynb>data table notebook</a>'\n",
              "          + ' to learn more about interactive tables.';\n",
              "        element.innerHTML = '';\n",
              "        dataTable['output_type'] = 'display_data';\n",
              "        await google.colab.output.renderOutput(dataTable, element);\n",
              "        const docLink = document.createElement('div');\n",
              "        docLink.innerHTML = docLinkHtml;\n",
              "        element.appendChild(docLink);\n",
              "      }\n",
              "    </script>\n",
              "  </div>\n",
              "\n",
              "\n",
              "<div id=\"df-203cf8a2-d5bf-4204-97fd-9e292dcd7781\">\n",
              "  <button class=\"colab-df-quickchart\" onclick=\"quickchart('df-203cf8a2-d5bf-4204-97fd-9e292dcd7781')\"\n",
              "            title=\"Suggest charts\"\n",
              "            style=\"display:none;\">\n",
              "\n",
              "<svg xmlns=\"http://www.w3.org/2000/svg\" height=\"24px\"viewBox=\"0 0 24 24\"\n",
              "     width=\"24px\">\n",
              "    <g>\n",
              "        <path d=\"M19 3H5c-1.1 0-2 .9-2 2v14c0 1.1.9 2 2 2h14c1.1 0 2-.9 2-2V5c0-1.1-.9-2-2-2zM9 17H7v-7h2v7zm4 0h-2V7h2v10zm4 0h-2v-4h2v4z\"/>\n",
              "    </g>\n",
              "</svg>\n",
              "  </button>\n",
              "\n",
              "<style>\n",
              "  .colab-df-quickchart {\n",
              "      --bg-color: #E8F0FE;\n",
              "      --fill-color: #1967D2;\n",
              "      --hover-bg-color: #E2EBFA;\n",
              "      --hover-fill-color: #174EA6;\n",
              "      --disabled-fill-color: #AAA;\n",
              "      --disabled-bg-color: #DDD;\n",
              "  }\n",
              "\n",
              "  [theme=dark] .colab-df-quickchart {\n",
              "      --bg-color: #3B4455;\n",
              "      --fill-color: #D2E3FC;\n",
              "      --hover-bg-color: #434B5C;\n",
              "      --hover-fill-color: #FFFFFF;\n",
              "      --disabled-bg-color: #3B4455;\n",
              "      --disabled-fill-color: #666;\n",
              "  }\n",
              "\n",
              "  .colab-df-quickchart {\n",
              "    background-color: var(--bg-color);\n",
              "    border: none;\n",
              "    border-radius: 50%;\n",
              "    cursor: pointer;\n",
              "    display: none;\n",
              "    fill: var(--fill-color);\n",
              "    height: 32px;\n",
              "    padding: 0;\n",
              "    width: 32px;\n",
              "  }\n",
              "\n",
              "  .colab-df-quickchart:hover {\n",
              "    background-color: var(--hover-bg-color);\n",
              "    box-shadow: 0 1px 2px rgba(60, 64, 67, 0.3), 0 1px 3px 1px rgba(60, 64, 67, 0.15);\n",
              "    fill: var(--button-hover-fill-color);\n",
              "  }\n",
              "\n",
              "  .colab-df-quickchart-complete:disabled,\n",
              "  .colab-df-quickchart-complete:disabled:hover {\n",
              "    background-color: var(--disabled-bg-color);\n",
              "    fill: var(--disabled-fill-color);\n",
              "    box-shadow: none;\n",
              "  }\n",
              "\n",
              "  .colab-df-spinner {\n",
              "    border: 2px solid var(--fill-color);\n",
              "    border-color: transparent;\n",
              "    border-bottom-color: var(--fill-color);\n",
              "    animation:\n",
              "      spin 1s steps(1) infinite;\n",
              "  }\n",
              "\n",
              "  @keyframes spin {\n",
              "    0% {\n",
              "      border-color: transparent;\n",
              "      border-bottom-color: var(--fill-color);\n",
              "      border-left-color: var(--fill-color);\n",
              "    }\n",
              "    20% {\n",
              "      border-color: transparent;\n",
              "      border-left-color: var(--fill-color);\n",
              "      border-top-color: var(--fill-color);\n",
              "    }\n",
              "    30% {\n",
              "      border-color: transparent;\n",
              "      border-left-color: var(--fill-color);\n",
              "      border-top-color: var(--fill-color);\n",
              "      border-right-color: var(--fill-color);\n",
              "    }\n",
              "    40% {\n",
              "      border-color: transparent;\n",
              "      border-right-color: var(--fill-color);\n",
              "      border-top-color: var(--fill-color);\n",
              "    }\n",
              "    60% {\n",
              "      border-color: transparent;\n",
              "      border-right-color: var(--fill-color);\n",
              "    }\n",
              "    80% {\n",
              "      border-color: transparent;\n",
              "      border-right-color: var(--fill-color);\n",
              "      border-bottom-color: var(--fill-color);\n",
              "    }\n",
              "    90% {\n",
              "      border-color: transparent;\n",
              "      border-bottom-color: var(--fill-color);\n",
              "    }\n",
              "  }\n",
              "</style>\n",
              "\n",
              "  <script>\n",
              "    async function quickchart(key) {\n",
              "      const quickchartButtonEl =\n",
              "        document.querySelector('#' + key + ' button');\n",
              "      quickchartButtonEl.disabled = true;  // To prevent multiple clicks.\n",
              "      quickchartButtonEl.classList.add('colab-df-spinner');\n",
              "      try {\n",
              "        const charts = await google.colab.kernel.invokeFunction(\n",
              "            'suggestCharts', [key], {});\n",
              "      } catch (error) {\n",
              "        console.error('Error during call to suggestCharts:', error);\n",
              "      }\n",
              "      quickchartButtonEl.classList.remove('colab-df-spinner');\n",
              "      quickchartButtonEl.classList.add('colab-df-quickchart-complete');\n",
              "    }\n",
              "    (() => {\n",
              "      let quickchartButtonEl =\n",
              "        document.querySelector('#df-203cf8a2-d5bf-4204-97fd-9e292dcd7781 button');\n",
              "      quickchartButtonEl.style.display =\n",
              "        google.colab.kernel.accessAllowed ? 'block' : 'none';\n",
              "    })();\n",
              "  </script>\n",
              "</div>\n",
              "\n",
              "    </div>\n",
              "  </div>\n"
            ],
            "application/vnd.google.colaboratory.intrinsic+json": {
              "type": "dataframe",
              "summary": "{\n  \"name\": \"HDFC[:2]\",\n  \"rows\": 2,\n  \"fields\": [\n    {\n      \"column\": \"index\",\n      \"properties\": {\n        \"dtype\": \"number\",\n        \"std\": 0,\n        \"min\": 0,\n        \"max\": 1,\n        \"num_unique_values\": 2,\n        \"samples\": [\n          1,\n          0\n        ],\n        \"semantic_type\": \"\",\n        \"description\": \"\"\n      }\n    },\n    {\n      \"column\": \"Close\",\n      \"properties\": {\n        \"dtype\": \"number\",\n        \"std\": 3.9249734835716628,\n        \"min\": 192.62896728515625,\n        \"max\": 198.17971801757807,\n        \"num_unique_values\": 2,\n        \"samples\": [\n          198.17971801757807,\n          192.62896728515625\n        ],\n        \"semantic_type\": \"\",\n        \"description\": \"\"\n      }\n    }\n  ]\n}"
            }
          },
          "metadata": {},
          "execution_count": 8
        }
      ]
    },
    {
      "cell_type": "markdown",
      "source": [
        "#### Scaling the data with min-max scaling"
      ],
      "metadata": {
        "id": "hgj5EEQ_LXgy"
      }
    },
    {
      "cell_type": "code",
      "source": [
        "scaler=MinMaxScaler(feature_range=(0,1))\n",
        "HUL = scaler.fit_transform(np.array(HUL).reshape(-1,1))\n",
        "HDFC = scaler.fit_transform(np.array(HDFC).reshape(-1,1))"
      ],
      "metadata": {
        "id": "HDth_gyQKrJe"
      },
      "execution_count": 9,
      "outputs": []
    },
    {
      "cell_type": "markdown",
      "source": [
        "#### Splitting dataset into train (70%) and test (30%) split"
      ],
      "metadata": {
        "id": "1N85rJLCLhPe"
      }
    },
    {
      "cell_type": "code",
      "source": [
        "training_size = int(len(HDFC)*0.7)\n",
        "test_size = len(HDFC)-training_size\n",
        "train_data_HDFC, test_data_HDFC = HDFC[0:training_size,:], HDFC[training_size:len(HDFC),:1]\n",
        "\n",
        "training_size = int(len(HUL)*0.7)\n",
        "test_size = len(HUL)-training_size\n",
        "train_data_HUL, test_data_HUL = HUL[0:training_size,:], HUL[training_size:len(HUL),:1]"
      ],
      "metadata": {
        "id": "Arf7Z6WILpFh"
      },
      "execution_count": 10,
      "outputs": []
    },
    {
      "cell_type": "code",
      "source": [
        "print(\"HDFC train, test: \", train_data_HDFC.shape, test_data_HDFC.shape)\n",
        "print(\"HUL train, test: \", train_data_HUL.shape, test_data_HDFC.shape)"
      ],
      "metadata": {
        "colab": {
          "base_uri": "https://localhost:8080/"
        },
        "id": "pvAgvcITMdW5",
        "outputId": "93cf0fff-2da5-4de3-95e0-1122bf6a397f"
      },
      "execution_count": 11,
      "outputs": [
        {
          "output_type": "stream",
          "name": "stdout",
          "text": [
            "HDFC train, test:  (4141, 1) (1775, 1)\n",
            "HUL train, test:  (4141, 1) (1775, 1)\n"
          ]
        }
      ]
    },
    {
      "cell_type": "markdown",
      "source": [
        "#### Data needs to be arranged in the form\n",
        "##### priceday-3, priceday-2 priceday-1 => priceday\n",
        "##### the number of time to be usedis a hyper parameter here."
      ],
      "metadata": {
        "id": "xBgJlMskNtqs"
      }
    },
    {
      "cell_type": "code",
      "source": [
        "# convert an array of values into a dataset matrix\n",
        "def create_dataset(dataset, time_step=1):\n",
        "\tdataX, dataY = [], []\n",
        "\tfor i in range(len(dataset)-time_step-1):\n",
        "\t\ta = dataset[i:(i+time_step), 0]   ###i=0, 0,1,2,3-----99   100\n",
        "\t\tdataX.append(a)\n",
        "\t\tdataY.append(dataset[i + time_step, 0])\n",
        "\treturn np.array(dataX), np.array(dataY)"
      ],
      "metadata": {
        "id": "LGIOVxLdOab6"
      },
      "execution_count": 12,
      "outputs": []
    },
    {
      "cell_type": "code",
      "source": [
        "# reshape into X=t,t+1,t+2,t+3 and Y=t+4\n",
        "time_step = 100"
      ],
      "metadata": {
        "id": "CLmuaDEpQwZM"
      },
      "execution_count": 13,
      "outputs": []
    },
    {
      "cell_type": "code",
      "source": [
        "X_train_HDFC, y_train_HDFC = create_dataset(train_data_HDFC, time_step)\n",
        "X_test_HDFC, y_test_HDFC = create_dataset(test_data_HDFC, time_step)\n",
        "\n",
        "print(\"HDFC Train Shape: \", X_train_HDFC.shape, y_train_HDFC.shape)\n",
        "print(\"HDFC Test Shape: \", X_test_HDFC.shape, y_test_HDFC.shape)"
      ],
      "metadata": {
        "colab": {
          "base_uri": "https://localhost:8080/"
        },
        "id": "LXd3uqLjQ1f1",
        "outputId": "923cae0d-c6e4-45a5-aaf2-b488da73edb2"
      },
      "execution_count": 14,
      "outputs": [
        {
          "output_type": "stream",
          "name": "stdout",
          "text": [
            "HDFC Train Shape:  (4040, 100) (4040,)\n",
            "HDFC Test Shape:  (1674, 100) (1674,)\n"
          ]
        }
      ]
    },
    {
      "cell_type": "code",
      "source": [
        "X_train_HUL, y_train_HUL = create_dataset(train_data_HUL, time_step)\n",
        "X_test_HUL, y_test_HUL = create_dataset(test_data_HUL, time_step)\n",
        "\n",
        "print(\"HUL Train Shape: \", X_train_HUL.shape, y_train_HUL.shape)\n",
        "print(\"HUL Test Shape: \", X_test_HUL.shape, y_test_HUL.shape)"
      ],
      "metadata": {
        "colab": {
          "base_uri": "https://localhost:8080/"
        },
        "id": "TcZSCqkARxTu",
        "outputId": "7cd6c74b-43c3-4b5f-e5b2-e6c0ddb96def"
      },
      "execution_count": 15,
      "outputs": [
        {
          "output_type": "stream",
          "name": "stdout",
          "text": [
            "HUL Train Shape:  (4040, 100) (4040,)\n",
            "HUL Test Shape:  (1674, 100) (1674,)\n"
          ]
        }
      ]
    },
    {
      "cell_type": "markdown",
      "source": [
        "#### Reshape input to be [samples, time steps, features] which is required for LSTM"
      ],
      "metadata": {
        "id": "pr-VoGpBS4rg"
      }
    },
    {
      "cell_type": "code",
      "source": [
        "X_train_HDFC =X_train_HDFC.reshape(X_train_HDFC.shape[0],X_train_HDFC.shape[1] , 1)\n",
        "X_test_HDFC = X_test_HDFC.reshape(X_test_HDFC.shape[0],X_test_HDFC.shape[1] , 1)"
      ],
      "metadata": {
        "id": "FYoxTi3US0Zr"
      },
      "execution_count": 16,
      "outputs": []
    },
    {
      "cell_type": "code",
      "source": [
        "X_train_HUL =X_train_HUL.reshape(X_train_HUL.shape[0],X_train_HUL.shape[1] , 1)\n",
        "X_test_HUL = X_test_HUL.reshape(X_test_HUL.shape[0],X_test_HUL.shape[1] , 1)"
      ],
      "metadata": {
        "id": "7Ileo439TN9k"
      },
      "execution_count": 17,
      "outputs": []
    },
    {
      "cell_type": "markdown",
      "source": [
        "### Create the Stacked LSTM model."
      ],
      "metadata": {
        "id": "X70CX8lvTawF"
      }
    },
    {
      "cell_type": "code",
      "source": [
        "model=Sequential()\n",
        "model.add(LSTM(50,return_sequences=True,input_shape=(100,1)))\n",
        "model.add(LSTM(50,return_sequences=True))\n",
        "model.add(LSTM(50))\n",
        "model.add(Dense(1))\n",
        "model.compile(loss='mean_squared_error',optimizer='adam')"
      ],
      "metadata": {
        "id": "suJTZC7kTxOs"
      },
      "execution_count": 31,
      "outputs": []
    },
    {
      "cell_type": "code",
      "source": [
        "model.summary()"
      ],
      "metadata": {
        "colab": {
          "base_uri": "https://localhost:8080/"
        },
        "id": "QTsKNfAbT7r-",
        "outputId": "275b8bfb-2357-42dc-ec43-8d6144b663ad"
      },
      "execution_count": 32,
      "outputs": [
        {
          "output_type": "stream",
          "name": "stdout",
          "text": [
            "Model: \"sequential_1\"\n",
            "_________________________________________________________________\n",
            " Layer (type)                Output Shape              Param #   \n",
            "=================================================================\n",
            " lstm_3 (LSTM)               (None, 100, 50)           10400     \n",
            "                                                                 \n",
            " lstm_4 (LSTM)               (None, 100, 50)           20200     \n",
            "                                                                 \n",
            " lstm_5 (LSTM)               (None, 50)                20200     \n",
            "                                                                 \n",
            " dense_1 (Dense)             (None, 1)                 51        \n",
            "                                                                 \n",
            "=================================================================\n",
            "Total params: 50851 (198.64 KB)\n",
            "Trainable params: 50851 (198.64 KB)\n",
            "Non-trainable params: 0 (0.00 Byte)\n",
            "_________________________________________________________________\n"
          ]
        }
      ]
    },
    {
      "cell_type": "code",
      "source": [
        "model.fit(X_train_HDFC,y_train_HDFC,validation_data=(X_test_HDFC,y_test_HDFC),epochs=30,batch_size=64,verbose=1)"
      ],
      "metadata": {
        "colab": {
          "base_uri": "https://localhost:8080/"
        },
        "id": "wNHi6SstUPiW",
        "outputId": "f1a8c0e4-14f8-4e81-cb8f-d3a21ef2285a"
      },
      "execution_count": 33,
      "outputs": [
        {
          "output_type": "stream",
          "name": "stdout",
          "text": [
            "Epoch 1/30\n",
            "64/64 [==============================] - 8s 38ms/step - loss: 0.0112 - val_loss: 0.0350\n",
            "Epoch 2/30\n",
            "64/64 [==============================] - 1s 16ms/step - loss: 0.0082 - val_loss: 0.0350\n",
            "Epoch 3/30\n",
            "64/64 [==============================] - 1s 16ms/step - loss: 0.0083 - val_loss: 0.0401\n",
            "Epoch 4/30\n",
            "64/64 [==============================] - 1s 16ms/step - loss: 0.0085 - val_loss: 0.0355\n",
            "Epoch 5/30\n",
            "64/64 [==============================] - 1s 15ms/step - loss: 0.0082 - val_loss: 0.0402\n",
            "Epoch 6/30\n",
            "64/64 [==============================] - 1s 16ms/step - loss: 0.0084 - val_loss: 0.0352\n",
            "Epoch 7/30\n",
            "64/64 [==============================] - 1s 16ms/step - loss: 0.0083 - val_loss: 0.0358\n",
            "Epoch 8/30\n",
            "64/64 [==============================] - 1s 16ms/step - loss: 0.0081 - val_loss: 0.0366\n",
            "Epoch 9/30\n",
            "64/64 [==============================] - 1s 16ms/step - loss: 0.0085 - val_loss: 0.0372\n",
            "Epoch 10/30\n",
            "64/64 [==============================] - 1s 17ms/step - loss: 0.0083 - val_loss: 0.0364\n",
            "Epoch 11/30\n",
            "64/64 [==============================] - 1s 22ms/step - loss: 0.0084 - val_loss: 0.0349\n",
            "Epoch 12/30\n",
            "64/64 [==============================] - 1s 22ms/step - loss: 0.0083 - val_loss: 0.0353\n",
            "Epoch 13/30\n",
            "64/64 [==============================] - 1s 16ms/step - loss: 0.0082 - val_loss: 0.0360\n",
            "Epoch 14/30\n",
            "64/64 [==============================] - 1s 16ms/step - loss: 0.0081 - val_loss: 0.0356\n",
            "Epoch 15/30\n",
            "64/64 [==============================] - 1s 15ms/step - loss: 0.0085 - val_loss: 0.0371\n",
            "Epoch 16/30\n",
            "64/64 [==============================] - 1s 16ms/step - loss: 0.0081 - val_loss: 0.0349\n",
            "Epoch 17/30\n",
            "64/64 [==============================] - 1s 16ms/step - loss: 0.0081 - val_loss: 0.0344\n",
            "Epoch 18/30\n",
            "64/64 [==============================] - 1s 16ms/step - loss: 0.0079 - val_loss: 0.0388\n",
            "Epoch 19/30\n",
            "64/64 [==============================] - 1s 16ms/step - loss: 0.0076 - val_loss: 0.0142\n",
            "Epoch 20/30\n",
            "64/64 [==============================] - 1s 16ms/step - loss: 0.0017 - val_loss: 0.0015\n",
            "Epoch 21/30\n",
            "64/64 [==============================] - 1s 16ms/step - loss: 1.0168e-04 - val_loss: 6.1888e-04\n",
            "Epoch 22/30\n",
            "64/64 [==============================] - 1s 18ms/step - loss: 6.7147e-05 - val_loss: 0.0012\n",
            "Epoch 23/30\n",
            "64/64 [==============================] - 1s 22ms/step - loss: 3.7396e-05 - val_loss: 0.0015\n",
            "Epoch 24/30\n",
            "64/64 [==============================] - 1s 22ms/step - loss: 3.8031e-05 - val_loss: 9.2960e-04\n",
            "Epoch 25/30\n",
            "64/64 [==============================] - 1s 16ms/step - loss: 2.8740e-05 - val_loss: 6.9367e-04\n",
            "Epoch 26/30\n",
            "64/64 [==============================] - 1s 16ms/step - loss: 3.1416e-05 - val_loss: 0.0013\n",
            "Epoch 27/30\n",
            "64/64 [==============================] - 1s 16ms/step - loss: 3.4909e-05 - val_loss: 7.0175e-04\n",
            "Epoch 28/30\n",
            "64/64 [==============================] - 1s 16ms/step - loss: 2.5127e-05 - val_loss: 5.4917e-04\n",
            "Epoch 29/30\n",
            "64/64 [==============================] - 1s 16ms/step - loss: 2.9572e-05 - val_loss: 7.4250e-04\n",
            "Epoch 30/30\n",
            "64/64 [==============================] - 1s 16ms/step - loss: 3.3336e-05 - val_loss: 5.6391e-04\n"
          ]
        },
        {
          "output_type": "execute_result",
          "data": {
            "text/plain": [
              "<keras.src.callbacks.History at 0x77feed1b2bf0>"
            ]
          },
          "metadata": {},
          "execution_count": 33
        }
      ]
    },
    {
      "cell_type": "markdown",
      "source": [
        "#### Lets Do the prediction and check performance metrics"
      ],
      "metadata": {
        "id": "HNdrexfSWHjZ"
      }
    },
    {
      "cell_type": "code",
      "source": [
        "train_predict=model.predict(X_train_HDFC)\n",
        "test_predict=model.predict(X_test_HDFC)"
      ],
      "metadata": {
        "colab": {
          "base_uri": "https://localhost:8080/"
        },
        "id": "hSiu1Ar1WBo6",
        "outputId": "cd9e917c-6835-45ab-9aef-67f2e137c0d2"
      },
      "execution_count": 34,
      "outputs": [
        {
          "output_type": "stream",
          "name": "stdout",
          "text": [
            "127/127 [==============================] - 2s 6ms/step\n",
            "53/53 [==============================] - 0s 6ms/step\n"
          ]
        }
      ]
    },
    {
      "cell_type": "markdown",
      "source": [
        "####Transformback to original form"
      ],
      "metadata": {
        "id": "Z5I8VkflWeAI"
      }
    },
    {
      "cell_type": "code",
      "source": [
        "train_predict=scaler.inverse_transform(train_predict)\n",
        "test_predict=scaler.inverse_transform(test_predict)"
      ],
      "metadata": {
        "id": "KkU-RrOHWeg7"
      },
      "execution_count": 35,
      "outputs": []
    },
    {
      "cell_type": "markdown",
      "source": [
        "#### Calculate RMSE performance metrics"
      ],
      "metadata": {
        "id": "uWyO7m7OWww_"
      }
    },
    {
      "cell_type": "code",
      "source": [
        "math.sqrt(mean_squared_error(y_train_HDFC,train_predict))"
      ],
      "metadata": {
        "colab": {
          "base_uri": "https://localhost:8080/"
        },
        "id": "D66hPNOvWrwN",
        "outputId": "ce494796-ee09-4d0c-cb48-e0793493726e"
      },
      "execution_count": 36,
      "outputs": [
        {
          "output_type": "execute_result",
          "data": {
            "text/plain": [
              "997.8562961213318"
            ]
          },
          "metadata": {},
          "execution_count": 36
        }
      ]
    },
    {
      "cell_type": "markdown",
      "source": [
        "#### Test Data RMSE"
      ],
      "metadata": {
        "id": "l2-DtsyxYTGA"
      }
    },
    {
      "cell_type": "code",
      "source": [
        "math.sqrt(mean_squared_error(y_test_HDFC,test_predict))"
      ],
      "metadata": {
        "colab": {
          "base_uri": "https://localhost:8080/"
        },
        "id": "nosHiFcGYLWC",
        "outputId": "e4d47439-58fc-4869-b0c2-3de87eebae9c"
      },
      "execution_count": 37,
      "outputs": [
        {
          "output_type": "execute_result",
          "data": {
            "text/plain": [
              "2022.944113756006"
            ]
          },
          "metadata": {},
          "execution_count": 37
        }
      ]
    },
    {
      "cell_type": "markdown",
      "source": [
        "#### Predict for HDFC."
      ],
      "metadata": {
        "id": "YDaAc0CgaNgQ"
      }
    },
    {
      "cell_type": "code",
      "source": [
        "len(test_data_HDFC)"
      ],
      "metadata": {
        "colab": {
          "base_uri": "https://localhost:8080/"
        },
        "id": "ovJA1Mw_Z3cO",
        "outputId": "79b5f1a0-6b41-48c9-c82d-77befc4d3122"
      },
      "execution_count": 38,
      "outputs": [
        {
          "output_type": "execute_result",
          "data": {
            "text/plain": [
              "1775"
            ]
          },
          "metadata": {},
          "execution_count": 38
        }
      ]
    },
    {
      "cell_type": "code",
      "source": [
        "x_input=test_data_HDFC[1675:].reshape(1,-1)\n",
        "x_input.shape"
      ],
      "metadata": {
        "colab": {
          "base_uri": "https://localhost:8080/"
        },
        "id": "vlaouYMoZiEO",
        "outputId": "d1700d5d-8c7c-4d9a-e21d-5d8f1c425cc7"
      },
      "execution_count": 39,
      "outputs": [
        {
          "output_type": "execute_result",
          "data": {
            "text/plain": [
              "(1, 100)"
            ]
          },
          "metadata": {},
          "execution_count": 39
        }
      ]
    },
    {
      "cell_type": "code",
      "source": [
        "temp_input=list(x_input)\n",
        "temp_input=temp_input[0].tolist()"
      ],
      "metadata": {
        "id": "MCx21RS6aLWc"
      },
      "execution_count": 40,
      "outputs": []
    },
    {
      "cell_type": "markdown",
      "source": [
        "#### Predicting for next 200 days."
      ],
      "metadata": {
        "id": "85JKv2gukPgt"
      }
    },
    {
      "cell_type": "code",
      "source": [
        "HDFC_output=[]\n",
        "n_steps=100\n",
        "i=0\n",
        "while(i <= 200):\n",
        "\n",
        "    if(len(temp_input)>100):\n",
        "        x_input=np.array(temp_input[1:])\n",
        "        x_input=x_input.reshape(1,-1)\n",
        "        x_input = x_input.reshape((1, n_steps, 1))\n",
        "        yhat = model.predict(x_input, verbose=0)\n",
        "        #print(\"{} day output {}\".format(i,yhat))\n",
        "        temp_input.extend(yhat[0].tolist())\n",
        "        temp_input=temp_input[1:]\n",
        "        #print(temp_input)\n",
        "        HDFC_output.extend(yhat.tolist())\n",
        "        i=i+1\n",
        "    else:\n",
        "        x_input = x_input.reshape((1, n_steps,1))\n",
        "        yhat = model.predict(x_input, verbose=0)\n",
        "        print(yhat[0])\n",
        "        temp_input.extend(yhat[0].tolist())\n",
        "        print(len(temp_input))\n",
        "        HDFC_output.extend(yhat.tolist())\n",
        "        i=i+1\n",
        "\n",
        "\n",
        "print(HDFC_output)"
      ],
      "metadata": {
        "colab": {
          "base_uri": "https://localhost:8080/"
        },
        "id": "OSeoWrhcXzkW",
        "outputId": "6087965f-524e-4e82-9789-f40e1456adb3"
      },
      "execution_count": 42,
      "outputs": [
        {
          "output_type": "stream",
          "name": "stdout",
          "text": [
            "[[0.59577476978302], [0.6128459572792053], [0.5950160026550293], [0.6115084886550903], [0.5942681431770325], [0.6102065443992615], [0.5935310125350952], [0.6089386343955994], [0.5928046107292175], [0.6077035665512085], [0.5920892357826233], [0.6065002083778381], [0.5913844704627991], [0.6053274869918823], [0.5906902551651001], [0.604184091091156], [0.5900068879127502], [0.6030691862106323], [0.5893338322639465], [0.6019819378852844], [0.588671088218689], [0.6009213328361511], [0.5880187153816223], [0.5998863577842712], [0.5873767137527466], [0.5988762378692627], [0.5867449045181274], [0.5978900194168091], [0.5861229300498962], [0.596927285194397], [0.5855108499526978], [0.59598708152771], [0.5849084258079529], [0.5950690507888794], [0.5843154191970825], [0.594171941280365], [0.5837321877479553], [0.5932955145835876], [0.5831582546234131], [0.5924389362335205], [0.5825935006141663], [0.5916017293930054], [0.5820378065109253], [0.590783417224884], [0.5814909338951111], [0.5899832844734192], [0.5809531211853027], [0.5892006158828735], [0.5804239511489868], [0.5884354114532471], [0.5799033641815186], [0.5876867175102234], [0.5793912410736084], [0.5869543552398682], [0.5788873434066772], [0.5862377882003784], [0.5783915519714355], [0.5855368375778198], [0.5779035687446594], [0.5848507881164551], [0.5774238109588623], [0.5841789245605469], [0.576951801776886], [0.5835214257240295], [0.5764874219894409], [0.582877516746521], [0.5760306119918823], [0.5822470188140869], [0.5755811929702759], [0.581629753112793], [0.575139045715332], [0.5810251235961914], [0.5747041702270508], [0.5804327726364136], [0.574276328086853], [0.5798525214195251], [0.573855459690094], [0.5792838335037231], [0.5734415054321289], [0.5787268877029419], [0.5730341672897339], [0.5781810283660889], [0.5726333260536194], [0.5776458978652954], [0.5722391605377197], [0.5771214962005615], [0.571851372718811], [0.5766074061393738], [0.571469783782959], [0.5761035680770874], [0.571094274520874], [0.5756096839904785], [0.5707248449325562], [0.5751250982284546], [0.5703614950180054], [0.5746501088142395], [0.5700041651725769], [0.574184238910675], [0.5696524381637573], [0.5737274289131165], [0.5693063735961914], [0.5732792615890503], [0.5689658522605896], [0.5728398561477661], [0.5686309337615967], [0.5724083781242371], [0.5683014988899231], [0.571985125541687], [0.5679773092269897], [0.571570098400116], [0.5676581859588623], [0.5711628198623657], [0.5673443078994751], [0.5707630515098572], [0.5670353770256042], [0.5703707933425903], [0.5667315125465393], [0.5699857473373413], [0.5664323568344116], [0.5696080327033997], [0.5661381483078003], [0.5692371129989624], [0.5658485293388367], [0.5688731670379639], [0.565563440322876], [0.5685158371925354], [0.5652831792831421], [0.5681648254394531], [0.5650073289871216], [0.5678203105926514], [0.5647357702255249], [0.5674821734428406], [0.564468502998352], [0.5671500563621521], [0.5642057657241821], [0.5668237805366516], [0.5639470815658569], [0.5665034055709839], [0.5636924505233765], [0.5661889314651489], [0.5634418725967407], [0.5658798813819885], [0.5631953477859497], [0.5655766725540161], [0.5629522800445557], [0.5652787685394287], [0.5627134442329407], [0.5649859309196472], [0.5624783635139465], [0.5646984577178955], [0.5622467994689941], [0.5644161701202393], [0.5620188117027283], [0.5641387104988098], [0.5617947578430176], [0.5638660192489624], [0.5615740418434143], [0.5635982155799866], [0.5613569021224976], [0.5633350014686584], [0.5611430406570435], [0.563076376914978], [0.5609326362609863], [0.5628224015235901], [0.5607255697250366], [0.5625723600387573], [0.5605217218399048], [0.562326967716217], [0.5603212118148804], [0.5620856881141663], [0.5601236820220947], [0.5618486404418945], [0.5599292516708374], [0.5616157650947571], [0.5597378015518188], [0.5613867044448853], [0.5595494508743286], [0.5611615777015686], [0.559363842010498], [0.5609405040740967], [0.5591813325881958], [0.5607229471206665], [0.5590015053749084], [0.560509204864502], [0.5588244795799255], [0.5602991580963135], [0.5586503744125366], [0.560092568397522], [0.5584787130355835], [0.5598896145820618], [0.55830979347229], [0.5596900582313538], [0.5581436157226562], [0.5594936609268188], [0.5579800009727478], [0.5593005418777466], [0.5578190088272095], [0.5591107606887817], [0.5576602220535278], [0.5589241981506348], [0.5575041174888611]]\n"
          ]
        }
      ]
    },
    {
      "cell_type": "code",
      "source": [
        "day_new=np.arange(1,101)\n",
        "day_pred=np.arange(101,302)"
      ],
      "metadata": {
        "id": "Ol42A49LcnVD"
      },
      "execution_count": 59,
      "outputs": []
    },
    {
      "cell_type": "code",
      "source": [
        "print(len(HDFC))\n",
        "print(len(HDFC_output))"
      ],
      "metadata": {
        "colab": {
          "base_uri": "https://localhost:8080/"
        },
        "id": "TBxXsfWNcrqo",
        "outputId": "70ae91f6-1dc0-4fa8-ed51-7cefcaf6a7e5"
      },
      "execution_count": 58,
      "outputs": [
        {
          "output_type": "stream",
          "name": "stdout",
          "text": [
            "5916\n",
            "201\n"
          ]
        }
      ]
    },
    {
      "cell_type": "code",
      "source": [
        "HDFC[:5]"
      ],
      "metadata": {
        "colab": {
          "base_uri": "https://localhost:8080/"
        },
        "id": "z6wMerCbfpwD",
        "outputId": "068741fa-b2f3-4117-89c3-047f9fd1de07"
      },
      "execution_count": 61,
      "outputs": [
        {
          "output_type": "execute_result",
          "data": {
            "text/plain": [
              "array([[0.        ],\n",
              "       [0.06514338],\n",
              "       [0.00033818],\n",
              "       [0.06702053],\n",
              "       [0.00067636]])"
            ]
          },
          "metadata": {},
          "execution_count": 61
        }
      ]
    },
    {
      "cell_type": "code",
      "source": [
        "#plt.plot(day_new,scaler.inverse_transform(HDFC[5816:]))\n",
        "plt.plot(day_pred,scaler.inverse_transform(HDFC_output))"
      ],
      "metadata": {
        "colab": {
          "base_uri": "https://localhost:8080/",
          "height": 447
        },
        "id": "cqu8Zhf2df3e",
        "outputId": "a36791c5-bd19-4ff8-a6a8-2c24c2bdb89a"
      },
      "execution_count": 62,
      "outputs": [
        {
          "output_type": "execute_result",
          "data": {
            "text/plain": [
              "[<matplotlib.lines.Line2D at 0x77fec81d1b70>]"
            ]
          },
          "metadata": {},
          "execution_count": 62
        },
        {
          "output_type": "display_data",
          "data": {
            "text/plain": [
              "<Figure size 640x480 with 1 Axes>"
            ],
            "image/png": "[encoded data removed]"
          },
          "metadata": {}
        }
      ]
    },
    {
      "cell_type": "code",
      "source": [
        "HDFC_Pred = scaler.inverse_transform(HDFC_output).tolist()"
      ],
      "metadata": {
        "id": "yPSDWZY9g5aP"
      },
      "execution_count": 63,
      "outputs": []
    },
    {
      "cell_type": "markdown",
      "source": [
        "#### Now Create the Model for HUL."
      ],
      "metadata": {
        "id": "Eqmg7ehthwQd"
      }
    },
    {
      "cell_type": "code",
      "source": [
        "model_HUL=Sequential()\n",
        "model_HUL.add(LSTM(50,return_sequences=True,input_shape=(100,1)))\n",
        "model_HUL.add(LSTM(50,return_sequences=True))\n",
        "model_HUL.add(LSTM(50))\n",
        "model_HUL.add(Dense(1))\n",
        "model_HUL.compile(loss='mean_squared_error',optimizer='adam')"
      ],
      "metadata": {
        "id": "-QpNgBQ1h3DG"
      },
      "execution_count": 64,
      "outputs": []
    },
    {
      "cell_type": "code",
      "source": [
        "model_HUL.fit(X_train_HUL,y_train_HUL,validation_data=(X_test_HUL,y_test_HUL),epochs=30,batch_size=64,verbose=1)"
      ],
      "metadata": {
        "colab": {
          "base_uri": "https://localhost:8080/"
        },
        "id": "AqZ7G9m1iFAG",
        "outputId": "751ce872-882c-43a4-8f50-f805751231de"
      },
      "execution_count": 65,
      "outputs": [
        {
          "output_type": "stream",
          "name": "stdout",
          "text": [
            "Epoch 1/30\n",
            "64/64 [==============================] - 7s 33ms/step - loss: 0.0071 - val_loss: 0.0027\n",
            "Epoch 2/30\n",
            "64/64 [==============================] - 1s 16ms/step - loss: 0.0016 - val_loss: 0.0027\n",
            "Epoch 3/30\n",
            "64/64 [==============================] - 1s 22ms/step - loss: 0.0016 - val_loss: 0.0026\n",
            "Epoch 4/30\n",
            "64/64 [==============================] - 1s 23ms/step - loss: 0.0016 - val_loss: 0.0022\n",
            "Epoch 5/30\n",
            "64/64 [==============================] - 1s 19ms/step - loss: 0.0017 - val_loss: 0.0025\n",
            "Epoch 6/30\n",
            "64/64 [==============================] - 1s 16ms/step - loss: 0.0017 - val_loss: 0.0022\n",
            "Epoch 7/30\n",
            "64/64 [==============================] - 1s 16ms/step - loss: 0.0017 - val_loss: 0.0024\n",
            "Epoch 8/30\n",
            "64/64 [==============================] - 1s 16ms/step - loss: 0.0017 - val_loss: 0.0024\n",
            "Epoch 9/30\n",
            "64/64 [==============================] - 1s 16ms/step - loss: 0.0016 - val_loss: 0.0046\n",
            "Epoch 10/30\n",
            "64/64 [==============================] - 1s 16ms/step - loss: 0.0016 - val_loss: 0.0050\n",
            "Epoch 11/30\n",
            "64/64 [==============================] - 1s 16ms/step - loss: 0.0017 - val_loss: 0.0030\n",
            "Epoch 12/30\n",
            "64/64 [==============================] - 1s 16ms/step - loss: 0.0016 - val_loss: 0.0033\n",
            "Epoch 13/30\n",
            "64/64 [==============================] - 1s 16ms/step - loss: 0.0017 - val_loss: 0.0026\n",
            "Epoch 14/30\n",
            "64/64 [==============================] - 1s 16ms/step - loss: 0.0017 - val_loss: 0.0030\n",
            "Epoch 15/30\n",
            "64/64 [==============================] - 1s 23ms/step - loss: 0.0016 - val_loss: 0.0042\n",
            "Epoch 16/30\n",
            "64/64 [==============================] - 2s 24ms/step - loss: 0.0016 - val_loss: 0.0022\n",
            "Epoch 17/30\n",
            "64/64 [==============================] - 1s 17ms/step - loss: 0.0017 - val_loss: 0.0024\n",
            "Epoch 18/30\n",
            "64/64 [==============================] - 1s 16ms/step - loss: 0.0016 - val_loss: 0.0023\n",
            "Epoch 19/30\n",
            "64/64 [==============================] - 1s 16ms/step - loss: 0.0017 - val_loss: 0.0022\n",
            "Epoch 20/30\n",
            "64/64 [==============================] - 1s 16ms/step - loss: 0.0016 - val_loss: 0.0024\n",
            "Epoch 21/30\n",
            "64/64 [==============================] - 1s 16ms/step - loss: 0.0016 - val_loss: 0.0026\n",
            "Epoch 22/30\n",
            "64/64 [==============================] - 1s 16ms/step - loss: 0.0016 - val_loss: 0.0026\n",
            "Epoch 23/30\n",
            "64/64 [==============================] - 1s 16ms/step - loss: 0.0016 - val_loss: 0.0026\n",
            "Epoch 24/30\n",
            "64/64 [==============================] - 1s 16ms/step - loss: 0.0016 - val_loss: 0.0056\n",
            "Epoch 25/30\n",
            "64/64 [==============================] - 1s 16ms/step - loss: 0.0016 - val_loss: 0.0052\n",
            "Epoch 26/30\n",
            "64/64 [==============================] - 1s 18ms/step - loss: 0.0017 - val_loss: 0.0025\n",
            "Epoch 27/30\n",
            "64/64 [==============================] - 2s 24ms/step - loss: 0.0016 - val_loss: 0.0023\n",
            "Epoch 28/30\n",
            "64/64 [==============================] - 1s 21ms/step - loss: 0.0016 - val_loss: 0.0028\n",
            "Epoch 29/30\n",
            "64/64 [==============================] - 1s 16ms/step - loss: 0.0017 - val_loss: 0.0023\n",
            "Epoch 30/30\n",
            "64/64 [==============================] - 1s 21ms/step - loss: 0.0016 - val_loss: 0.0026\n"
          ]
        },
        {
          "output_type": "execute_result",
          "data": {
            "text/plain": [
              "<keras.src.callbacks.History at 0x77fec07dc700>"
            ]
          },
          "metadata": {},
          "execution_count": 65
        }
      ]
    },
    {
      "cell_type": "code",
      "source": [
        "### Lets Do the prediction and check performance metrics\n",
        "train_predict=model.predict(X_train_HUL)\n",
        "test_predict=model.predict(X_test_HUL)"
      ],
      "metadata": {
        "colab": {
          "base_uri": "https://localhost:8080/"
        },
        "id": "xxnCkWvwjDxQ",
        "outputId": "cd8f9be3-f016-452b-8ee3-a0a0531d52a1"
      },
      "execution_count": 66,
      "outputs": [
        {
          "output_type": "stream",
          "name": "stdout",
          "text": [
            "127/127 [==============================] - 1s 6ms/step\n",
            "53/53 [==============================] - 0s 6ms/step\n"
          ]
        }
      ]
    },
    {
      "cell_type": "code",
      "source": [
        "##Transformback to original form\n",
        "train_predict=scaler.inverse_transform(train_predict)\n",
        "test_predict=scaler.inverse_transform(test_predict)"
      ],
      "metadata": {
        "id": "niKnxTv4jKcY"
      },
      "execution_count": 67,
      "outputs": []
    },
    {
      "cell_type": "code",
      "source": [
        "### Calculate RMSE performance metrics\n",
        "math.sqrt(mean_squared_error(y_train_HUL,train_predict))"
      ],
      "metadata": {
        "colab": {
          "base_uri": "https://localhost:8080/"
        },
        "id": "YEUyjC_SjPGC",
        "outputId": "29c2122c-d275-4de4-aca7-b3c637674447"
      },
      "execution_count": 69,
      "outputs": [
        {
          "output_type": "execute_result",
          "data": {
            "text/plain": [
              "1137.0984340707212"
            ]
          },
          "metadata": {},
          "execution_count": 69
        }
      ]
    },
    {
      "cell_type": "code",
      "source": [
        "### Test Data RMSE\n",
        "math.sqrt(mean_squared_error(y_test_HUL,test_predict))"
      ],
      "metadata": {
        "colab": {
          "base_uri": "https://localhost:8080/"
        },
        "id": "gTtjsO6ZjXF-",
        "outputId": "fe8d0b4a-50dc-4604-a158-2e9010bdeb9e"
      },
      "execution_count": 70,
      "outputs": [
        {
          "output_type": "execute_result",
          "data": {
            "text/plain": [
              "2287.2703084299565"
            ]
          },
          "metadata": {},
          "execution_count": 70
        }
      ]
    },
    {
      "cell_type": "code",
      "source": [
        "len(test_data_HUL)"
      ],
      "metadata": {
        "colab": {
          "base_uri": "https://localhost:8080/"
        },
        "id": "WbXp6FFgjdJv",
        "outputId": "5fed0dfc-1aa8-4891-a21d-9e09bfe51de7"
      },
      "execution_count": 71,
      "outputs": [
        {
          "output_type": "execute_result",
          "data": {
            "text/plain": [
              "1775"
            ]
          },
          "metadata": {},
          "execution_count": 71
        }
      ]
    },
    {
      "cell_type": "code",
      "source": [
        "x_input=test_data_HUL[1675:].reshape(1,-1)\n",
        "x_input.shape"
      ],
      "metadata": {
        "colab": {
          "base_uri": "https://localhost:8080/"
        },
        "id": "JdCGVmqtjoWp",
        "outputId": "a6eca637-422a-4c35-9b51-fdcf1b6bec55"
      },
      "execution_count": 72,
      "outputs": [
        {
          "output_type": "execute_result",
          "data": {
            "text/plain": [
              "(1, 100)"
            ]
          },
          "metadata": {},
          "execution_count": 72
        }
      ]
    },
    {
      "cell_type": "code",
      "source": [
        "temp_input=list(x_input)\n",
        "temp_input=temp_input[0].tolist()"
      ],
      "metadata": {
        "id": "k11kMulPjujI"
      },
      "execution_count": 73,
      "outputs": []
    },
    {
      "cell_type": "code",
      "source": [
        "# demonstrate prediction for next 200 days\n",
        "\n",
        "HUL_output=[]\n",
        "n_steps=100\n",
        "i=0\n",
        "while(i<= 200):\n",
        "\n",
        "    if(len(temp_input)>100):\n",
        "        #print(temp_input)\n",
        "        x_input=np.array(temp_input[1:])\n",
        "        #print(\"{} day input {}\".format(i,x_input))\n",
        "        x_input=x_input.reshape(1,-1)\n",
        "        x_input = x_input.reshape((1, n_steps, 1))\n",
        "        #print(x_input)\n",
        "        yhat = model.predict(x_input, verbose=0)\n",
        "        #print(\"{} day output {}\".format(i,yhat))\n",
        "        temp_input.extend(yhat[0].tolist())\n",
        "        temp_input=temp_input[1:]\n",
        "        #print(temp_input)\n",
        "        HUL_output.extend(yhat.tolist())\n",
        "        i=i+1\n",
        "    else:\n",
        "        x_input = x_input.reshape((1, n_steps,1))\n",
        "        yhat = model.predict(x_input, verbose=0)\n",
        "        print(yhat[0])\n",
        "        temp_input.extend(yhat[0].tolist())\n",
        "        print(len(temp_input))\n",
        "        HUL_output.extend(yhat.tolist())\n",
        "        i=i+1\n",
        "\n",
        "\n",
        "print(HUL_output)"
      ],
      "metadata": {
        "colab": {
          "base_uri": "https://localhost:8080/"
        },
        "id": "d8qkDyRsj0Xq",
        "outputId": "63067aba-393a-4291-aa07-72f385ad3c22"
      },
      "execution_count": 74,
      "outputs": [
        {
          "output_type": "stream",
          "name": "stdout",
          "text": [
            "[0.8856871]\n",
            "101\n",
            "[[0.8856871128082275], [0.8396897315979004], [0.8838242292404175], [0.838372528553009], [0.8733908534049988], [0.8310407400131226], [0.8609955906867981], [0.8225142359733582], [0.848664402961731], [0.8138443827629089], [0.8368968963623047], [0.8053431510925293], [0.8257975578308105], [0.7971256971359253], [0.8153678178787231], [0.7892389297485352], [0.8055760860443115], [0.7816967964172363], [0.7963794469833374], [0.774495005607605], [0.7877308130264282], [0.7676205635070801], [0.7795841693878174], [0.7610564231872559], [0.771896243095398], [0.7547850608825684], [0.7646279335021973], [0.7487881779670715], [0.7577446103096008], [0.7430497407913208], [0.7512152194976807], [0.7375538945198059], [0.7450122833251953], [0.7322860360145569], [0.7391107082366943], [0.7272336483001709], [0.7334882020950317], [0.7223841547966003], [0.7281250357627869], [0.7177257537841797], [0.7230029106140137], [0.7132481336593628], [0.7181054353713989], [0.7089411616325378], [0.7134179472923279], [0.7047954797744751], [0.7089270353317261], [0.7008030414581299], [0.7046198844909668], [0.6969555616378784], [0.7004857659339905], [0.6932453513145447], [0.6965140104293823], [0.6896657943725586], [0.6926950812339783], [0.686210572719574], [0.6890202760696411], [0.6828731894493103], [0.6854817867279053], [0.6796481013298035], [0.682072103023529], [0.6765299439430237], [0.6787842512130737], [0.6735138297080994], [0.6756119728088379], [0.6705948114395142], [0.6725491881370544], [0.6677689552307129], [0.6695902943611145], [0.6650316715240479], [0.6667304039001465], [0.662379264831543], [0.6639645099639893], [0.6598084568977356], [0.6612881422042847], [0.6573150157928467], [0.6586971282958984], [0.6548961400985718], [0.6561877727508545], [0.6525486707687378], [0.6537561416625977], [0.650269627571106], [0.6513990163803101], [0.648056149482727], [0.6491129398345947], [0.6459058523178101], [0.6468950510025024], [0.6438161134719849], [0.6447421908378601], [0.6417847275733948], [0.6426518559455872], [0.6398094892501831], [0.6406213641166687], [0.6378880143165588], [0.6386486291885376], [0.6360184550285339], [0.6367310285568237], [0.6341987252235413], [0.6348666548728943], [0.632427453994751], [0.6330532431602478], [0.6307022571563721], [0.6312889456748962], [0.6290221810340881], [0.6295719146728516], [0.627385139465332], [0.6279003620147705], [0.625789999961853], [0.6262726783752441], [0.6242348551750183], [0.6246874332427979], [0.6227186918258667], [0.6231428980827332], [0.6212403774261475], [0.6216375827789307], [0.6197984218597412], [0.6201702356338501], [0.6183913946151733], [0.6187397241592407], [0.6170186996459961], [0.6173445582389832], [0.6156788468360901], [0.6159836053848267], [0.6143709421157837], [0.6146560311317444], [0.6130936741828918], [0.6133602857589722], [0.6118466854095459], [0.6120956540107727], [0.6106286644935608], [0.6108608841896057], [0.6094387769699097], [0.6096553206443787], [0.6082761287689209], [0.6084780097007751], [0.6071397066116333], [0.6073281764984131], [0.6060291528701782], [0.6062044501304626], [0.6049436926841736], [0.6051064729690552], [0.6038821935653687], [0.6040335893630981], [0.6028444766998291], [0.6029845476150513], [0.6018294095993042], [0.6019591093063354], [0.6008365750312805], [0.6009564995765686], [0.5998654365539551], [0.5999758243560791], [0.5989152193069458], [0.5990170240402222], [0.5979853272438049], [0.5980787873268127], [0.5970752239227295], [0.597161054611206], [0.5961844325065613], [0.5962631106376648], [0.5953123569488525], [0.5953842401504517], [0.5944586396217346], [0.594524085521698], [0.5936227440834045], [0.593682050704956], [0.5928041338920593], [0.5928575992584229], [0.5920024514198303], [0.5920505523681641], [0.5912172794342041], [0.5912600755691528], [0.5904481410980225], [0.5904860496520996], [0.5896945595741272], [0.5897278785705566], [0.5889562368392944], [0.5889850854873657], [0.5882327556610107], [0.5882574915885925], [0.5875238180160522], [0.5875445604324341], [0.5868288278579712], [0.586846113204956], [0.586147665977478], [0.5861613154411316], [0.5854803323745728], [0.5854901075363159], [0.5848258137702942], [0.584832489490509], [0.5841839909553528], [0.5841878056526184], [0.5835548639297485], [0.5835558176040649], [0.5829378366470337], [0.5829360485076904], [0.5823327302932739], [0.5823282599449158], [0.5817393064498901], [0.5817322731018066], [0.5811572074890137], [0.5811480283737183]]\n"
          ]
        }
      ]
    },
    {
      "cell_type": "code",
      "source": [
        "day_new=np.arange(1,101)\n",
        "day_pred=np.arange(101,302)"
      ],
      "metadata": {
        "id": "ewcxIvKrkVTm"
      },
      "execution_count": 75,
      "outputs": []
    },
    {
      "cell_type": "code",
      "source": [
        "print(len(HUL))\n",
        "print(len(HUL_output))"
      ],
      "metadata": {
        "colab": {
          "base_uri": "https://localhost:8080/"
        },
        "id": "Eg87xur8kf_o",
        "outputId": "2d5465a6-9ec1-4fe1-f1c4-c4fb325ea8d6"
      },
      "execution_count": 76,
      "outputs": [
        {
          "output_type": "stream",
          "name": "stdout",
          "text": [
            "5916\n",
            "201\n"
          ]
        }
      ]
    },
    {
      "cell_type": "code",
      "source": [
        "#plt.plot(day_new,scaler.inverse_transform(HUL[5816:]))\n",
        "plt.plot(day_pred,scaler.inverse_transform(HUL_output))"
      ],
      "metadata": {
        "colab": {
          "base_uri": "https://localhost:8080/",
          "height": 447
        },
        "id": "F-Ksgu1NkuV0",
        "outputId": "4cab4190-def2-49d9-9da2-a9c7fe91fafc"
      },
      "execution_count": 78,
      "outputs": [
        {
          "output_type": "execute_result",
          "data": {
            "text/plain": [
              "[<matplotlib.lines.Line2D at 0x77feecb72e60>]"
            ]
          },
          "metadata": {},
          "execution_count": 78
        },
        {
          "output_type": "display_data",
          "data": {
            "text/plain": [
              "<Figure size 640x480 with 1 Axes>"
            ],
            "image/png": "[encoded data removed]"
          },
          "metadata": {}
        }
      ]
    },
    {
      "cell_type": "code",
      "source": [
        "HUL_Pred = scaler.inverse_transform(HUL_output).tolist()"
      ],
      "metadata": {
        "id": "rZtg_foelCCK"
      },
      "execution_count": 79,
      "outputs": []
    },
    {
      "cell_type": "code",
      "source": [
        "Preds = {\n",
        "    'HDFC Bank': HDFC_Pred,\n",
        "    'Hindustan Uniliver': HUL_Pred\n",
        "}\n",
        "Pred_df = pd.DataFrame(Preds)"
      ],
      "metadata": {
        "id": "Xli4JM8hlVLR"
      },
      "execution_count": 81,
      "outputs": []
    },
    {
      "cell_type": "markdown",
      "source": [
        "## Write the Prediction file to GDrive"
      ],
      "metadata": {
        "id": "RF4IceVjmoXT"
      }
    },
    {
      "cell_type": "code",
      "source": [
        "from google.colab import drive\n",
        "# Mount Google Drive\n",
        "drive.mount('/content/drive')\n",
        "\n",
        "# Define the output file path in Google Drive\n",
        "output_file_path = '/content/drive/My Drive/Stock_Prediction.csv'\n",
        "\n",
        "# Write the DataFrame to a CSV file in Google Drive\n",
        "Pred_df.to_csv(output_file_path, index=False)"
      ],
      "metadata": {
        "colab": {
          "base_uri": "https://localhost:8080/"
        },
        "id": "08tfcWrvrilF",
        "outputId": "4d8b5541-b5d4-4fdb-e329-8fd17ab75a67"
      },
      "execution_count": 90,
      "outputs": [
        {
          "output_type": "stream",
          "name": "stdout",
          "text": [
            "Drive already mounted at /content/drive; to attempt to forcibly remount, call drive.mount(\"/content/drive\", force_remount=True).\n"
          ]
        }
      ]
    }
  ]
}